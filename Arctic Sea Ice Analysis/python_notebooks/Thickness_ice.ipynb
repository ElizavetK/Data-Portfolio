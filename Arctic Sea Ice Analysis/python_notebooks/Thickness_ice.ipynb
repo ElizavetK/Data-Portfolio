{
 "cells": [
  {
   "cell_type": "markdown",
   "id": "1daaa408",
   "metadata": {},
   "source": [
    "Import libraries"
   ]
  },
  {
   "cell_type": "code",
   "execution_count": 5,
   "id": "eb7da542",
   "metadata": {},
   "outputs": [],
   "source": [
    "import pandas as pd\n",
    "import numpy as np\n",
    "import matplotlib.pyplot as plt\n",
    "import seaborn as sns"
   ]
  },
  {
   "cell_type": "code",
   "execution_count": 6,
   "id": "22dd734e",
   "metadata": {},
   "outputs": [],
   "source": [
    "import geopandas as gpd\n",
    "from shapely.geometry import Polygon\n",
    "import geodatasets\n",
    "import matplotlib.ticker as mticker \n",
    "from matplotlib.colors import ListedColormap\n",
    "from loguru import logger\n",
    "import sys"
   ]
  },
  {
   "cell_type": "code",
   "execution_count": 7,
   "id": "4b49aa3c",
   "metadata": {},
   "outputs": [],
   "source": [
    "import rasterio\n",
    "import rasterio.mask\n",
    "import rioxarray as rxr\n",
    "from matplotlib.dates import MonthLocator, DateFormatter, AutoDateLocator, ConciseDateFormatter\n",
    "from matplotlib import colormaps\n",
    "from pathlib import Path\n",
    "import re\n",
    "from tqdm.notebook import tqdm"
   ]
  },
  {
   "cell_type": "code",
   "execution_count": 8,
   "id": "0492f145",
   "metadata": {},
   "outputs": [],
   "source": [
    "import xarray as xr"
   ]
  },
  {
   "cell_type": "code",
   "execution_count": 9,
   "id": "89d35c97",
   "metadata": {},
   "outputs": [],
   "source": [
    "import copernicusmarine"
   ]
  },
  {
   "cell_type": "code",
   "execution_count": 10,
   "id": "b212a059",
   "metadata": {},
   "outputs": [],
   "source": [
    "from scipy.stats import linregress"
   ]
  },
  {
   "cell_type": "code",
   "execution_count": null,
   "id": "d2a9ddec",
   "metadata": {},
   "outputs": [],
   "source": [
    "copernicusmarine.subset(\n",
    "  dataset_id=\"cmems_mod_arc_phy_my_nextsim_P1M-m\",\n",
    "  variables=[\"sithick\"],\n",
    "  minimum_longitude=-180,\n",
    "  maximum_longitude=179.97000000001367,\n",
    "  minimum_latitude=49.98,\n",
    "  maximum_latitude=90.03000000000151,\n",
    "  start_datetime=\"1993-12-01T00:00:00\",\n",
    "  end_datetime=\"1993-12-01T00:00:00\",\n",
    "  \n",
    ")"
   ]
  },
  {
   "cell_type": "markdown",
   "id": "fc67859c",
   "metadata": {},
   "source": [
    "# Thickness"
   ]
  },
  {
   "cell_type": "code",
   "execution_count": 11,
   "id": "eb045343",
   "metadata": {},
   "outputs": [],
   "source": [
    "df_1993 = xr.open_dataset(\"../fraction_area/data/thickness/cmems_mod_arc_phy_my_nextsim_P1M-m_1747297036212_1993.nc\")"
   ]
  },
  {
   "cell_type": "code",
   "execution_count": 46,
   "id": "ae232d63",
   "metadata": {},
   "outputs": [],
   "source": [
    "df_2023 = xr.open_dataset(\"../fraction_area/data/thickness/cmems_mod_arc_phy_my_nextsim_P1M-m_1747299096281_2023.nc\")"
   ]
  },
  {
   "cell_type": "code",
   "execution_count": 12,
   "id": "37da38f6",
   "metadata": {},
   "outputs": [
    {
     "data": {
      "text/html": [
       "<div><svg style=\"position: absolute; width: 0; height: 0; overflow: hidden\">\n",
       "<defs>\n",
       "<symbol id=\"icon-database\" viewBox=\"0 0 32 32\">\n",
       "<path d=\"M16 0c-8.837 0-16 2.239-16 5v4c0 2.761 7.163 5 16 5s16-2.239 16-5v-4c0-2.761-7.163-5-16-5z\"></path>\n",
       "<path d=\"M16 17c-8.837 0-16-2.239-16-5v6c0 2.761 7.163 5 16 5s16-2.239 16-5v-6c0 2.761-7.163 5-16 5z\"></path>\n",
       "<path d=\"M16 26c-8.837 0-16-2.239-16-5v6c0 2.761 7.163 5 16 5s16-2.239 16-5v-6c0 2.761-7.163 5-16 5z\"></path>\n",
       "</symbol>\n",
       "<symbol id=\"icon-file-text2\" viewBox=\"0 0 32 32\">\n",
       "<path d=\"M28.681 7.159c-0.694-0.947-1.662-2.053-2.724-3.116s-2.169-2.030-3.116-2.724c-1.612-1.182-2.393-1.319-2.841-1.319h-15.5c-1.378 0-2.5 1.121-2.5 2.5v27c0 1.378 1.122 2.5 2.5 2.5h23c1.378 0 2.5-1.122 2.5-2.5v-19.5c0-0.448-0.137-1.23-1.319-2.841zM24.543 5.457c0.959 0.959 1.712 1.825 2.268 2.543h-4.811v-4.811c0.718 0.556 1.584 1.309 2.543 2.268zM28 29.5c0 0.271-0.229 0.5-0.5 0.5h-23c-0.271 0-0.5-0.229-0.5-0.5v-27c0-0.271 0.229-0.5 0.5-0.5 0 0 15.499-0 15.5 0v7c0 0.552 0.448 1 1 1h7v19.5z\"></path>\n",
       "<path d=\"M23 26h-14c-0.552 0-1-0.448-1-1s0.448-1 1-1h14c0.552 0 1 0.448 1 1s-0.448 1-1 1z\"></path>\n",
       "<path d=\"M23 22h-14c-0.552 0-1-0.448-1-1s0.448-1 1-1h14c0.552 0 1 0.448 1 1s-0.448 1-1 1z\"></path>\n",
       "<path d=\"M23 18h-14c-0.552 0-1-0.448-1-1s0.448-1 1-1h14c0.552 0 1 0.448 1 1s-0.448 1-1 1z\"></path>\n",
       "</symbol>\n",
       "</defs>\n",
       "</svg>\n",
       "<style>/* CSS stylesheet for displaying xarray objects in jupyterlab.\n",
       " *\n",
       " */\n",
       "\n",
       ":root {\n",
       "  --xr-font-color0: var(--jp-content-font-color0, rgba(0, 0, 0, 1));\n",
       "  --xr-font-color2: var(--jp-content-font-color2, rgba(0, 0, 0, 0.54));\n",
       "  --xr-font-color3: var(--jp-content-font-color3, rgba(0, 0, 0, 0.38));\n",
       "  --xr-border-color: var(--jp-border-color2, #e0e0e0);\n",
       "  --xr-disabled-color: var(--jp-layout-color3, #bdbdbd);\n",
       "  --xr-background-color: var(--jp-layout-color0, white);\n",
       "  --xr-background-color-row-even: var(--jp-layout-color1, white);\n",
       "  --xr-background-color-row-odd: var(--jp-layout-color2, #eeeeee);\n",
       "}\n",
       "\n",
       "html[theme=\"dark\"],\n",
       "html[data-theme=\"dark\"],\n",
       "body[data-theme=\"dark\"],\n",
       "body.vscode-dark {\n",
       "  --xr-font-color0: rgba(255, 255, 255, 1);\n",
       "  --xr-font-color2: rgba(255, 255, 255, 0.54);\n",
       "  --xr-font-color3: rgba(255, 255, 255, 0.38);\n",
       "  --xr-border-color: #1f1f1f;\n",
       "  --xr-disabled-color: #515151;\n",
       "  --xr-background-color: #111111;\n",
       "  --xr-background-color-row-even: #111111;\n",
       "  --xr-background-color-row-odd: #313131;\n",
       "}\n",
       "\n",
       ".xr-wrap {\n",
       "  display: block !important;\n",
       "  min-width: 300px;\n",
       "  max-width: 700px;\n",
       "}\n",
       "\n",
       ".xr-text-repr-fallback {\n",
       "  /* fallback to plain text repr when CSS is not injected (untrusted notebook) */\n",
       "  display: none;\n",
       "}\n",
       "\n",
       ".xr-header {\n",
       "  padding-top: 6px;\n",
       "  padding-bottom: 6px;\n",
       "  margin-bottom: 4px;\n",
       "  border-bottom: solid 1px var(--xr-border-color);\n",
       "}\n",
       "\n",
       ".xr-header > div,\n",
       ".xr-header > ul {\n",
       "  display: inline;\n",
       "  margin-top: 0;\n",
       "  margin-bottom: 0;\n",
       "}\n",
       "\n",
       ".xr-obj-type,\n",
       ".xr-array-name {\n",
       "  margin-left: 2px;\n",
       "  margin-right: 10px;\n",
       "}\n",
       "\n",
       ".xr-obj-type {\n",
       "  color: var(--xr-font-color2);\n",
       "}\n",
       "\n",
       ".xr-sections {\n",
       "  padding-left: 0 !important;\n",
       "  display: grid;\n",
       "  grid-template-columns: 150px auto auto 1fr 0 20px 0 20px;\n",
       "}\n",
       "\n",
       ".xr-section-item {\n",
       "  display: contents;\n",
       "}\n",
       "\n",
       ".xr-section-item input {\n",
       "  display: inline-block;\n",
       "  opacity: 0;\n",
       "  height: 0;\n",
       "}\n",
       "\n",
       ".xr-section-item input + label {\n",
       "  color: var(--xr-disabled-color);\n",
       "}\n",
       "\n",
       ".xr-section-item input:enabled + label {\n",
       "  cursor: pointer;\n",
       "  color: var(--xr-font-color2);\n",
       "}\n",
       "\n",
       ".xr-section-item input:focus + label {\n",
       "  border: 2px solid var(--xr-font-color0);\n",
       "}\n",
       "\n",
       ".xr-section-item input:enabled + label:hover {\n",
       "  color: var(--xr-font-color0);\n",
       "}\n",
       "\n",
       ".xr-section-summary {\n",
       "  grid-column: 1;\n",
       "  color: var(--xr-font-color2);\n",
       "  font-weight: 500;\n",
       "}\n",
       "\n",
       ".xr-section-summary > span {\n",
       "  display: inline-block;\n",
       "  padding-left: 0.5em;\n",
       "}\n",
       "\n",
       ".xr-section-summary-in:disabled + label {\n",
       "  color: var(--xr-font-color2);\n",
       "}\n",
       "\n",
       ".xr-section-summary-in + label:before {\n",
       "  display: inline-block;\n",
       "  content: \"►\";\n",
       "  font-size: 11px;\n",
       "  width: 15px;\n",
       "  text-align: center;\n",
       "}\n",
       "\n",
       ".xr-section-summary-in:disabled + label:before {\n",
       "  color: var(--xr-disabled-color);\n",
       "}\n",
       "\n",
       ".xr-section-summary-in:checked + label:before {\n",
       "  content: \"▼\";\n",
       "}\n",
       "\n",
       ".xr-section-summary-in:checked + label > span {\n",
       "  display: none;\n",
       "}\n",
       "\n",
       ".xr-section-summary,\n",
       ".xr-section-inline-details {\n",
       "  padding-top: 4px;\n",
       "  padding-bottom: 4px;\n",
       "}\n",
       "\n",
       ".xr-section-inline-details {\n",
       "  grid-column: 2 / -1;\n",
       "}\n",
       "\n",
       ".xr-section-details {\n",
       "  display: none;\n",
       "  grid-column: 1 / -1;\n",
       "  margin-bottom: 5px;\n",
       "}\n",
       "\n",
       ".xr-section-summary-in:checked ~ .xr-section-details {\n",
       "  display: contents;\n",
       "}\n",
       "\n",
       ".xr-array-wrap {\n",
       "  grid-column: 1 / -1;\n",
       "  display: grid;\n",
       "  grid-template-columns: 20px auto;\n",
       "}\n",
       "\n",
       ".xr-array-wrap > label {\n",
       "  grid-column: 1;\n",
       "  vertical-align: top;\n",
       "}\n",
       "\n",
       ".xr-preview {\n",
       "  color: var(--xr-font-color3);\n",
       "}\n",
       "\n",
       ".xr-array-preview,\n",
       ".xr-array-data {\n",
       "  padding: 0 5px !important;\n",
       "  grid-column: 2;\n",
       "}\n",
       "\n",
       ".xr-array-data,\n",
       ".xr-array-in:checked ~ .xr-array-preview {\n",
       "  display: none;\n",
       "}\n",
       "\n",
       ".xr-array-in:checked ~ .xr-array-data,\n",
       ".xr-array-preview {\n",
       "  display: inline-block;\n",
       "}\n",
       "\n",
       ".xr-dim-list {\n",
       "  display: inline-block !important;\n",
       "  list-style: none;\n",
       "  padding: 0 !important;\n",
       "  margin: 0;\n",
       "}\n",
       "\n",
       ".xr-dim-list li {\n",
       "  display: inline-block;\n",
       "  padding: 0;\n",
       "  margin: 0;\n",
       "}\n",
       "\n",
       ".xr-dim-list:before {\n",
       "  content: \"(\";\n",
       "}\n",
       "\n",
       ".xr-dim-list:after {\n",
       "  content: \")\";\n",
       "}\n",
       "\n",
       ".xr-dim-list li:not(:last-child):after {\n",
       "  content: \",\";\n",
       "  padding-right: 5px;\n",
       "}\n",
       "\n",
       ".xr-has-index {\n",
       "  font-weight: bold;\n",
       "}\n",
       "\n",
       ".xr-var-list,\n",
       ".xr-var-item {\n",
       "  display: contents;\n",
       "}\n",
       "\n",
       ".xr-var-item > div,\n",
       ".xr-var-item label,\n",
       ".xr-var-item > .xr-var-name span {\n",
       "  background-color: var(--xr-background-color-row-even);\n",
       "  margin-bottom: 0;\n",
       "}\n",
       "\n",
       ".xr-var-item > .xr-var-name:hover span {\n",
       "  padding-right: 5px;\n",
       "}\n",
       "\n",
       ".xr-var-list > li:nth-child(odd) > div,\n",
       ".xr-var-list > li:nth-child(odd) > label,\n",
       ".xr-var-list > li:nth-child(odd) > .xr-var-name span {\n",
       "  background-color: var(--xr-background-color-row-odd);\n",
       "}\n",
       "\n",
       ".xr-var-name {\n",
       "  grid-column: 1;\n",
       "}\n",
       "\n",
       ".xr-var-dims {\n",
       "  grid-column: 2;\n",
       "}\n",
       "\n",
       ".xr-var-dtype {\n",
       "  grid-column: 3;\n",
       "  text-align: right;\n",
       "  color: var(--xr-font-color2);\n",
       "}\n",
       "\n",
       ".xr-var-preview {\n",
       "  grid-column: 4;\n",
       "}\n",
       "\n",
       ".xr-index-preview {\n",
       "  grid-column: 2 / 5;\n",
       "  color: var(--xr-font-color2);\n",
       "}\n",
       "\n",
       ".xr-var-name,\n",
       ".xr-var-dims,\n",
       ".xr-var-dtype,\n",
       ".xr-preview,\n",
       ".xr-attrs dt {\n",
       "  white-space: nowrap;\n",
       "  overflow: hidden;\n",
       "  text-overflow: ellipsis;\n",
       "  padding-right: 10px;\n",
       "}\n",
       "\n",
       ".xr-var-name:hover,\n",
       ".xr-var-dims:hover,\n",
       ".xr-var-dtype:hover,\n",
       ".xr-attrs dt:hover {\n",
       "  overflow: visible;\n",
       "  width: auto;\n",
       "  z-index: 1;\n",
       "}\n",
       "\n",
       ".xr-var-attrs,\n",
       ".xr-var-data,\n",
       ".xr-index-data {\n",
       "  display: none;\n",
       "  background-color: var(--xr-background-color) !important;\n",
       "  padding-bottom: 5px !important;\n",
       "}\n",
       "\n",
       ".xr-var-attrs-in:checked ~ .xr-var-attrs,\n",
       ".xr-var-data-in:checked ~ .xr-var-data,\n",
       ".xr-index-data-in:checked ~ .xr-index-data {\n",
       "  display: block;\n",
       "}\n",
       "\n",
       ".xr-var-data > table {\n",
       "  float: right;\n",
       "}\n",
       "\n",
       ".xr-var-name span,\n",
       ".xr-var-data,\n",
       ".xr-index-name div,\n",
       ".xr-index-data,\n",
       ".xr-attrs {\n",
       "  padding-left: 25px !important;\n",
       "}\n",
       "\n",
       ".xr-attrs,\n",
       ".xr-var-attrs,\n",
       ".xr-var-data,\n",
       ".xr-index-data {\n",
       "  grid-column: 1 / -1;\n",
       "}\n",
       "\n",
       "dl.xr-attrs {\n",
       "  padding: 0;\n",
       "  margin: 0;\n",
       "  display: grid;\n",
       "  grid-template-columns: 125px auto;\n",
       "}\n",
       "\n",
       ".xr-attrs dt,\n",
       ".xr-attrs dd {\n",
       "  padding: 0;\n",
       "  margin: 0;\n",
       "  float: left;\n",
       "  padding-right: 10px;\n",
       "  width: auto;\n",
       "}\n",
       "\n",
       ".xr-attrs dt {\n",
       "  font-weight: normal;\n",
       "  grid-column: 1;\n",
       "}\n",
       "\n",
       ".xr-attrs dt:hover span {\n",
       "  display: inline-block;\n",
       "  background: var(--xr-background-color);\n",
       "  padding-right: 10px;\n",
       "}\n",
       "\n",
       ".xr-attrs dd {\n",
       "  grid-column: 2;\n",
       "  white-space: pre-wrap;\n",
       "  word-break: break-all;\n",
       "}\n",
       "\n",
       ".xr-icon-database,\n",
       ".xr-icon-file-text2,\n",
       ".xr-no-icon {\n",
       "  display: inline-block;\n",
       "  vertical-align: middle;\n",
       "  width: 1em;\n",
       "  height: 1.5em !important;\n",
       "  stroke-width: 0;\n",
       "  stroke: currentColor;\n",
       "  fill: currentColor;\n",
       "}\n",
       "</style><pre class='xr-text-repr-fallback'>&lt;xarray.Dataset&gt; Size: 64MB\n",
       "Dimensions:    (time: 1, latitude: 1336, longitude: 12000)\n",
       "Coordinates:\n",
       "  * time       (time) datetime64[ns] 8B 1993-12-01\n",
       "  * latitude   (latitude) float32 5kB 49.98 50.01 50.04 ... 89.97 90.0 90.03\n",
       "  * longitude  (longitude) float32 48kB -180.0 -180.0 -179.9 ... 179.9 180.0\n",
       "Data variables:\n",
       "    sithick    (time, latitude, longitude) float32 64MB ...\n",
       "Attributes:\n",
       "    Conventions:       CF-1.11\n",
       "    title:             Arctic sea ice reanalysis\n",
       "    institution:       NERSC, Jahnebakken 3, N-5007 Bergen, Norway\n",
       "    source:            neXtSIM model fields\n",
       "    credit:            E.U. Copernicus Marine Service Information (CMEMS)\n",
       "    contact:           servicedesk.cmems@mercator-ocean.eu\n",
       "    references:        https://marine.copernicus.eu/\n",
       "    subset:source:     ARCO data downloaded from the Marine Data Store using ...\n",
       "    subset:productId:  ARCTIC_MULTIYEAR_PHY_ICE_002_016\n",
       "    subset:datasetId:  cmems_mod_arc_phy_my_nextsim_P1M-m_202411\n",
       "    subset:date:       2025-05-15T08:17:16.213Z</pre><div class='xr-wrap' style='display:none'><div class='xr-header'><div class='xr-obj-type'>xarray.Dataset</div></div><ul class='xr-sections'><li class='xr-section-item'><input id='section-a588c8c7-9029-4f30-a824-e64f0c62c03c' class='xr-section-summary-in' type='checkbox' disabled ><label for='section-a588c8c7-9029-4f30-a824-e64f0c62c03c' class='xr-section-summary'  title='Expand/collapse section'>Dimensions:</label><div class='xr-section-inline-details'><ul class='xr-dim-list'><li><span class='xr-has-index'>time</span>: 1</li><li><span class='xr-has-index'>latitude</span>: 1336</li><li><span class='xr-has-index'>longitude</span>: 12000</li></ul></div><div class='xr-section-details'></div></li><li class='xr-section-item'><input id='section-31c32378-2e90-49b3-8f5b-dee6d5cea57e' class='xr-section-summary-in' type='checkbox'  checked><label for='section-31c32378-2e90-49b3-8f5b-dee6d5cea57e' class='xr-section-summary' >Coordinates: <span>(3)</span></label><div class='xr-section-inline-details'></div><div class='xr-section-details'><ul class='xr-var-list'><li class='xr-var-item'><div class='xr-var-name'><span class='xr-has-index'>time</span></div><div class='xr-var-dims'>(time)</div><div class='xr-var-dtype'>datetime64[ns]</div><div class='xr-var-preview xr-preview'>1993-12-01</div><input id='attrs-9bd7aac3-1f3c-4c8e-9be0-e9079e7fcf3d' class='xr-var-attrs-in' type='checkbox' ><label for='attrs-9bd7aac3-1f3c-4c8e-9be0-e9079e7fcf3d' title='Show/Hide attributes'><svg class='icon xr-icon-file-text2'><use xlink:href='#icon-file-text2'></use></svg></label><input id='data-03fae5ae-8acd-4296-a30c-fb79a1d9bf55' class='xr-var-data-in' type='checkbox'><label for='data-03fae5ae-8acd-4296-a30c-fb79a1d9bf55' title='Show/Hide data repr'><svg class='icon xr-icon-database'><use xlink:href='#icon-database'></use></svg></label><div class='xr-var-attrs'><dl class='xr-attrs'><dt><span>standard_name :</span></dt><dd>time</dd><dt><span>long_name :</span></dt><dd>Time</dd><dt><span>axis :</span></dt><dd>T</dd></dl></div><div class='xr-var-data'><pre>array([&#x27;1993-12-01T00:00:00.000000000&#x27;], dtype=&#x27;datetime64[ns]&#x27;)</pre></div></li><li class='xr-var-item'><div class='xr-var-name'><span class='xr-has-index'>latitude</span></div><div class='xr-var-dims'>(latitude)</div><div class='xr-var-dtype'>float32</div><div class='xr-var-preview xr-preview'>49.98 50.01 50.04 ... 90.0 90.03</div><input id='attrs-7b76e16c-1bab-49cf-8ecb-9813ef234817' class='xr-var-attrs-in' type='checkbox' ><label for='attrs-7b76e16c-1bab-49cf-8ecb-9813ef234817' title='Show/Hide attributes'><svg class='icon xr-icon-file-text2'><use xlink:href='#icon-file-text2'></use></svg></label><input id='data-50eb16f7-12a1-4785-a2ca-5eca769c30ad' class='xr-var-data-in' type='checkbox'><label for='data-50eb16f7-12a1-4785-a2ca-5eca769c30ad' title='Show/Hide data repr'><svg class='icon xr-icon-database'><use xlink:href='#icon-database'></use></svg></label><div class='xr-var-attrs'><dl class='xr-attrs'><dt><span>standard_name :</span></dt><dd>latitude</dd><dt><span>long_name :</span></dt><dd>Latitude</dd><dt><span>units :</span></dt><dd>degrees_north</dd><dt><span>unit_long :</span></dt><dd>Degrees North</dd><dt><span>axis :</span></dt><dd>Y</dd></dl></div><div class='xr-var-data'><pre>array([49.98, 50.01, 50.04, ..., 89.97, 90.  , 90.03],\n",
       "      shape=(1336,), dtype=float32)</pre></div></li><li class='xr-var-item'><div class='xr-var-name'><span class='xr-has-index'>longitude</span></div><div class='xr-var-dims'>(longitude)</div><div class='xr-var-dtype'>float32</div><div class='xr-var-preview xr-preview'>-180.0 -180.0 ... 179.9 180.0</div><input id='attrs-0760336b-d6c8-475a-89ee-b475f68d3efe' class='xr-var-attrs-in' type='checkbox' ><label for='attrs-0760336b-d6c8-475a-89ee-b475f68d3efe' title='Show/Hide attributes'><svg class='icon xr-icon-file-text2'><use xlink:href='#icon-file-text2'></use></svg></label><input id='data-1a8c0c40-7c7a-4440-8275-940dcda9ad4c' class='xr-var-data-in' type='checkbox'><label for='data-1a8c0c40-7c7a-4440-8275-940dcda9ad4c' title='Show/Hide data repr'><svg class='icon xr-icon-database'><use xlink:href='#icon-database'></use></svg></label><div class='xr-var-attrs'><dl class='xr-attrs'><dt><span>standard_name :</span></dt><dd>longitude</dd><dt><span>long_name :</span></dt><dd>Longitude</dd><dt><span>units :</span></dt><dd>degrees_east</dd><dt><span>unit_long :</span></dt><dd>Degrees East</dd><dt><span>axis :</span></dt><dd>X</dd></dl></div><div class='xr-var-data'><pre>array([-180.  , -179.97, -179.94, ...,  179.91,  179.94,  179.97],\n",
       "      shape=(12000,), dtype=float32)</pre></div></li></ul></div></li><li class='xr-section-item'><input id='section-9519c4af-3303-416b-a689-f319dd25b286' class='xr-section-summary-in' type='checkbox'  checked><label for='section-9519c4af-3303-416b-a689-f319dd25b286' class='xr-section-summary' >Data variables: <span>(1)</span></label><div class='xr-section-inline-details'></div><div class='xr-section-details'><ul class='xr-var-list'><li class='xr-var-item'><div class='xr-var-name'><span>sithick</span></div><div class='xr-var-dims'>(time, latitude, longitude)</div><div class='xr-var-dtype'>float32</div><div class='xr-var-preview xr-preview'>...</div><input id='attrs-087bdafd-51ae-43d7-871a-bddb2937cb49' class='xr-var-attrs-in' type='checkbox' ><label for='attrs-087bdafd-51ae-43d7-871a-bddb2937cb49' title='Show/Hide attributes'><svg class='icon xr-icon-file-text2'><use xlink:href='#icon-file-text2'></use></svg></label><input id='data-a0c68821-39bd-4f8d-982e-b3ed11d829a1' class='xr-var-data-in' type='checkbox'><label for='data-a0c68821-39bd-4f8d-982e-b3ed11d829a1' title='Show/Hide data repr'><svg class='icon xr-icon-database'><use xlink:href='#icon-database'></use></svg></label><div class='xr-var-attrs'><dl class='xr-attrs'><dt><span>units :</span></dt><dd>m</dd><dt><span>standard_name :</span></dt><dd>sea_ice_thickness</dd><dt><span>long_name :</span></dt><dd>Sea Ice Thickness</dd><dt><span>cell_methods :</span></dt><dd>time: mean (interval: 6 hours) area: mean</dd><dt><span>regrid_method :</span></dt><dd>bilinear</dd></dl></div><div class='xr-var-data'><pre>[16032000 values with dtype=float32]</pre></div></li></ul></div></li><li class='xr-section-item'><input id='section-8e6a9a24-04f8-4f84-8eb1-5f1bcb510da6' class='xr-section-summary-in' type='checkbox'  ><label for='section-8e6a9a24-04f8-4f84-8eb1-5f1bcb510da6' class='xr-section-summary' >Indexes: <span>(3)</span></label><div class='xr-section-inline-details'></div><div class='xr-section-details'><ul class='xr-var-list'><li class='xr-var-item'><div class='xr-index-name'><div>time</div></div><div class='xr-index-preview'>PandasIndex</div><input type='checkbox' disabled/><label></label><input id='index-149d7b65-e3dd-43eb-91c9-ddc423d97857' class='xr-index-data-in' type='checkbox'/><label for='index-149d7b65-e3dd-43eb-91c9-ddc423d97857' title='Show/Hide index repr'><svg class='icon xr-icon-database'><use xlink:href='#icon-database'></use></svg></label><div class='xr-index-data'><pre>PandasIndex(DatetimeIndex([&#x27;1993-12-01&#x27;], dtype=&#x27;datetime64[ns]&#x27;, name=&#x27;time&#x27;, freq=None))</pre></div></li><li class='xr-var-item'><div class='xr-index-name'><div>latitude</div></div><div class='xr-index-preview'>PandasIndex</div><input type='checkbox' disabled/><label></label><input id='index-12ec347b-26a9-4430-9ef5-d824591cc194' class='xr-index-data-in' type='checkbox'/><label for='index-12ec347b-26a9-4430-9ef5-d824591cc194' title='Show/Hide index repr'><svg class='icon xr-icon-database'><use xlink:href='#icon-database'></use></svg></label><div class='xr-index-data'><pre>PandasIndex(Index([ 49.97999954223633,   50.0099983215332, 50.040000915527344,\n",
       "        50.06999969482422, 50.099998474121094, 50.130001068115234,\n",
       "        50.15999984741211, 50.189998626708984, 50.220001220703125,\n",
       "                    50.25,\n",
       "       ...\n",
       "        89.76000213623047,  89.79000091552734,  89.81999969482422,\n",
       "         89.8499984741211,  89.87999725341797,  89.91000366210938,\n",
       "        89.94000244140625,  89.97000122070312,               90.0,\n",
       "        90.02999877929688],\n",
       "      dtype=&#x27;float32&#x27;, name=&#x27;latitude&#x27;, length=1336))</pre></div></li><li class='xr-var-item'><div class='xr-index-name'><div>longitude</div></div><div class='xr-index-preview'>PandasIndex</div><input type='checkbox' disabled/><label></label><input id='index-d2b4735d-f7c8-4ef6-9b58-56cb7599a5e9' class='xr-index-data-in' type='checkbox'/><label for='index-d2b4735d-f7c8-4ef6-9b58-56cb7599a5e9' title='Show/Hide index repr'><svg class='icon xr-icon-database'><use xlink:href='#icon-database'></use></svg></label><div class='xr-index-data'><pre>PandasIndex(Index([             -180.0, -179.97000122070312, -179.94000244140625,\n",
       "       -179.91000366210938,  -179.8800048828125, -179.85000610351562,\n",
       "       -179.82000732421875,  -179.7899932861328, -179.75999450683594,\n",
       "       -179.72999572753906,\n",
       "       ...\n",
       "         179.6999969482422,  179.72999572753906,  179.75999450683594,\n",
       "         179.7899932861328,  179.82000732421875,  179.85000610351562,\n",
       "         179.8800048828125,  179.91000366210938,  179.94000244140625,\n",
       "        179.97000122070312],\n",
       "      dtype=&#x27;float32&#x27;, name=&#x27;longitude&#x27;, length=12000))</pre></div></li></ul></div></li><li class='xr-section-item'><input id='section-c9f73584-b845-4346-90c3-06a9eb3bda61' class='xr-section-summary-in' type='checkbox'  ><label for='section-c9f73584-b845-4346-90c3-06a9eb3bda61' class='xr-section-summary' >Attributes: <span>(11)</span></label><div class='xr-section-inline-details'></div><div class='xr-section-details'><dl class='xr-attrs'><dt><span>Conventions :</span></dt><dd>CF-1.11</dd><dt><span>title :</span></dt><dd>Arctic sea ice reanalysis</dd><dt><span>institution :</span></dt><dd>NERSC, Jahnebakken 3, N-5007 Bergen, Norway</dd><dt><span>source :</span></dt><dd>neXtSIM model fields</dd><dt><span>credit :</span></dt><dd>E.U. Copernicus Marine Service Information (CMEMS)</dd><dt><span>contact :</span></dt><dd>servicedesk.cmems@mercator-ocean.eu</dd><dt><span>references :</span></dt><dd>https://marine.copernicus.eu/</dd><dt><span>subset:source :</span></dt><dd>ARCO data downloaded from the Marine Data Store using the MyOcean Data Portal</dd><dt><span>subset:productId :</span></dt><dd>ARCTIC_MULTIYEAR_PHY_ICE_002_016</dd><dt><span>subset:datasetId :</span></dt><dd>cmems_mod_arc_phy_my_nextsim_P1M-m_202411</dd><dt><span>subset:date :</span></dt><dd>2025-05-15T08:17:16.213Z</dd></dl></div></li></ul></div></div>"
      ],
      "text/plain": [
       "<xarray.Dataset> Size: 64MB\n",
       "Dimensions:    (time: 1, latitude: 1336, longitude: 12000)\n",
       "Coordinates:\n",
       "  * time       (time) datetime64[ns] 8B 1993-12-01\n",
       "  * latitude   (latitude) float32 5kB 49.98 50.01 50.04 ... 89.97 90.0 90.03\n",
       "  * longitude  (longitude) float32 48kB -180.0 -180.0 -179.9 ... 179.9 180.0\n",
       "Data variables:\n",
       "    sithick    (time, latitude, longitude) float32 64MB ...\n",
       "Attributes:\n",
       "    Conventions:       CF-1.11\n",
       "    title:             Arctic sea ice reanalysis\n",
       "    institution:       NERSC, Jahnebakken 3, N-5007 Bergen, Norway\n",
       "    source:            neXtSIM model fields\n",
       "    credit:            E.U. Copernicus Marine Service Information (CMEMS)\n",
       "    contact:           servicedesk.cmems@mercator-ocean.eu\n",
       "    references:        https://marine.copernicus.eu/\n",
       "    subset:source:     ARCO data downloaded from the Marine Data Store using ...\n",
       "    subset:productId:  ARCTIC_MULTIYEAR_PHY_ICE_002_016\n",
       "    subset:datasetId:  cmems_mod_arc_phy_my_nextsim_P1M-m_202411\n",
       "    subset:date:       2025-05-15T08:17:16.213Z"
      ]
     },
     "execution_count": 12,
     "metadata": {},
     "output_type": "execute_result"
    }
   ],
   "source": [
    "df_1993"
   ]
  },
  {
   "cell_type": "code",
   "execution_count": 21,
   "id": "10d2939d",
   "metadata": {},
   "outputs": [],
   "source": [
    "thickness = df_1993['sithick']"
   ]
  },
  {
   "cell_type": "code",
   "execution_count": 47,
   "id": "1de713c6",
   "metadata": {},
   "outputs": [],
   "source": [
    "thickness_new = df_2023['sithick']"
   ]
  },
  {
   "cell_type": "code",
   "execution_count": 30,
   "id": "2a7dd82f",
   "metadata": {},
   "outputs": [],
   "source": [
    "thickness_df = thickness.to_dataframe().dropna().reset_index()"
   ]
  },
  {
   "cell_type": "code",
   "execution_count": 58,
   "id": "3b8615fe",
   "metadata": {},
   "outputs": [],
   "source": [
    "thickness_new_df = thickness_new.to_dataframe().dropna().reset_index()"
   ]
  },
  {
   "cell_type": "code",
   "execution_count": 33,
   "id": "68db4b8f",
   "metadata": {},
   "outputs": [
    {
     "data": {
      "text/html": [
       "<div>\n",
       "<style scoped>\n",
       "    .dataframe tbody tr th:only-of-type {\n",
       "        vertical-align: middle;\n",
       "    }\n",
       "\n",
       "    .dataframe tbody tr th {\n",
       "        vertical-align: top;\n",
       "    }\n",
       "\n",
       "    .dataframe thead th {\n",
       "        text-align: right;\n",
       "    }\n",
       "</style>\n",
       "<table border=\"1\" class=\"dataframe\">\n",
       "  <thead>\n",
       "    <tr style=\"text-align: right;\">\n",
       "      <th></th>\n",
       "      <th>time</th>\n",
       "      <th>latitude</th>\n",
       "      <th>longitude</th>\n",
       "      <th>sithick</th>\n",
       "    </tr>\n",
       "  </thead>\n",
       "  <tbody>\n",
       "    <tr>\n",
       "      <th>0</th>\n",
       "      <td>1993-12-01</td>\n",
       "      <td>51.209999</td>\n",
       "      <td>-79.800003</td>\n",
       "      <td>0.388275</td>\n",
       "    </tr>\n",
       "    <tr>\n",
       "      <th>1</th>\n",
       "      <td>1993-12-01</td>\n",
       "      <td>51.240002</td>\n",
       "      <td>-79.919998</td>\n",
       "      <td>0.324626</td>\n",
       "    </tr>\n",
       "    <tr>\n",
       "      <th>2</th>\n",
       "      <td>1993-12-01</td>\n",
       "      <td>51.240002</td>\n",
       "      <td>-79.889999</td>\n",
       "      <td>0.334393</td>\n",
       "    </tr>\n",
       "    <tr>\n",
       "      <th>3</th>\n",
       "      <td>1993-12-01</td>\n",
       "      <td>51.240002</td>\n",
       "      <td>-79.860001</td>\n",
       "      <td>0.347744</td>\n",
       "    </tr>\n",
       "    <tr>\n",
       "      <th>4</th>\n",
       "      <td>1993-12-01</td>\n",
       "      <td>51.240002</td>\n",
       "      <td>-79.830002</td>\n",
       "      <td>0.393308</td>\n",
       "    </tr>\n",
       "  </tbody>\n",
       "</table>\n",
       "</div>"
      ],
      "text/plain": [
       "        time   latitude  longitude   sithick\n",
       "0 1993-12-01  51.209999 -79.800003  0.388275\n",
       "1 1993-12-01  51.240002 -79.919998  0.324626\n",
       "2 1993-12-01  51.240002 -79.889999  0.334393\n",
       "3 1993-12-01  51.240002 -79.860001  0.347744\n",
       "4 1993-12-01  51.240002 -79.830002  0.393308"
      ]
     },
     "execution_count": 33,
     "metadata": {},
     "output_type": "execute_result"
    }
   ],
   "source": [
    "thickness_df.head()"
   ]
  },
  {
   "cell_type": "code",
   "execution_count": 37,
   "id": "f8e5d865",
   "metadata": {},
   "outputs": [
    {
     "data": {
      "text/plain": [
       "time         229955\n",
       "latitude     229955\n",
       "longitude    229955\n",
       "sithick      229955\n",
       "dtype: int64"
      ]
     },
     "execution_count": 37,
     "metadata": {},
     "output_type": "execute_result"
    }
   ],
   "source": [
    "thick_50 = thickness_df[(thickness_df['latitude'] > 50) & (thickness_df['latitude'] < 60)].mean()"
   ]
  },
  {
   "cell_type": "code",
   "execution_count": 65,
   "id": "24912fe0",
   "metadata": {},
   "outputs": [],
   "source": [
    "conditions = [\n",
    "    (thickness_df['latitude'] > 50) & (thickness_df['latitude'] < 55),\n",
    "    (thickness_df['latitude'] > 55) & (thickness_df['latitude'] < 60),\n",
    "    (thickness_df['latitude'] > 60) & (thickness_df['latitude'] < 65),\n",
    "    (thickness_df['latitude'] > 65) & (thickness_df['latitude'] < 70),\n",
    "    (thickness_df['latitude'] > 70) & (thickness_df['latitude'] < 75),\n",
    "    (thickness_df['latitude'] > 75) & (thickness_df['latitude'] < 80),\n",
    "    (thickness_df['latitude'] > 80) & (thickness_df['latitude'] < 85),\n",
    "    (thickness_df['latitude'] > 85) & (thickness_df['latitude'] < 90),\n",
    "    (thickness_df['latitude'] >= 90)\n",
    "]\n",
    "\n",
    "cat = [50, 55, 60, 65, 70, 75, 80, 85, 90]\n",
    "\n",
    "thickness_df['int'] = np.select(conditions, cat, default=np.nan)"
   ]
  },
  {
   "cell_type": "code",
   "execution_count": 66,
   "id": "e02a784e",
   "metadata": {},
   "outputs": [],
   "source": [
    "thickness_new_df['int'] = np.select(conditions, cat, default=np.nan)"
   ]
  },
  {
   "cell_type": "code",
   "execution_count": 68,
   "id": "f080645f",
   "metadata": {},
   "outputs": [
    {
     "data": {
      "text/html": [
       "<div>\n",
       "<style scoped>\n",
       "    .dataframe tbody tr th:only-of-type {\n",
       "        vertical-align: middle;\n",
       "    }\n",
       "\n",
       "    .dataframe tbody tr th {\n",
       "        vertical-align: top;\n",
       "    }\n",
       "\n",
       "    .dataframe thead th {\n",
       "        text-align: right;\n",
       "    }\n",
       "</style>\n",
       "<table border=\"1\" class=\"dataframe\">\n",
       "  <thead>\n",
       "    <tr style=\"text-align: right;\">\n",
       "      <th></th>\n",
       "      <th>time</th>\n",
       "      <th>latitude</th>\n",
       "      <th>longitude</th>\n",
       "      <th>sithick</th>\n",
       "      <th>int</th>\n",
       "    </tr>\n",
       "  </thead>\n",
       "  <tbody>\n",
       "    <tr>\n",
       "      <th>0</th>\n",
       "      <td>1993-12-01</td>\n",
       "      <td>51.209999</td>\n",
       "      <td>-79.800003</td>\n",
       "      <td>0.388275</td>\n",
       "      <td>50.0</td>\n",
       "    </tr>\n",
       "    <tr>\n",
       "      <th>1</th>\n",
       "      <td>1993-12-01</td>\n",
       "      <td>51.240002</td>\n",
       "      <td>-79.919998</td>\n",
       "      <td>0.324626</td>\n",
       "      <td>50.0</td>\n",
       "    </tr>\n",
       "    <tr>\n",
       "      <th>2</th>\n",
       "      <td>1993-12-01</td>\n",
       "      <td>51.240002</td>\n",
       "      <td>-79.889999</td>\n",
       "      <td>0.334393</td>\n",
       "      <td>50.0</td>\n",
       "    </tr>\n",
       "    <tr>\n",
       "      <th>3</th>\n",
       "      <td>1993-12-01</td>\n",
       "      <td>51.240002</td>\n",
       "      <td>-79.860001</td>\n",
       "      <td>0.347744</td>\n",
       "      <td>50.0</td>\n",
       "    </tr>\n",
       "    <tr>\n",
       "      <th>4</th>\n",
       "      <td>1993-12-01</td>\n",
       "      <td>51.240002</td>\n",
       "      <td>-79.830002</td>\n",
       "      <td>0.393308</td>\n",
       "      <td>50.0</td>\n",
       "    </tr>\n",
       "  </tbody>\n",
       "</table>\n",
       "</div>"
      ],
      "text/plain": [
       "        time   latitude  longitude   sithick   int\n",
       "0 1993-12-01  51.209999 -79.800003  0.388275  50.0\n",
       "1 1993-12-01  51.240002 -79.919998  0.324626  50.0\n",
       "2 1993-12-01  51.240002 -79.889999  0.334393  50.0\n",
       "3 1993-12-01  51.240002 -79.860001  0.347744  50.0\n",
       "4 1993-12-01  51.240002 -79.830002  0.393308  50.0"
      ]
     },
     "execution_count": 68,
     "metadata": {},
     "output_type": "execute_result"
    }
   ],
   "source": [
    "thickness_df.head()"
   ]
  },
  {
   "cell_type": "code",
   "execution_count": 60,
   "id": "ca6cd50f",
   "metadata": {},
   "outputs": [
    {
     "data": {
      "text/html": [
       "<div>\n",
       "<style scoped>\n",
       "    .dataframe tbody tr th:only-of-type {\n",
       "        vertical-align: middle;\n",
       "    }\n",
       "\n",
       "    .dataframe tbody tr th {\n",
       "        vertical-align: top;\n",
       "    }\n",
       "\n",
       "    .dataframe thead th {\n",
       "        text-align: right;\n",
       "    }\n",
       "</style>\n",
       "<table border=\"1\" class=\"dataframe\">\n",
       "  <thead>\n",
       "    <tr style=\"text-align: right;\">\n",
       "      <th></th>\n",
       "      <th>time</th>\n",
       "      <th>latitude</th>\n",
       "      <th>longitude</th>\n",
       "      <th>sithick</th>\n",
       "      <th>int</th>\n",
       "    </tr>\n",
       "  </thead>\n",
       "  <tbody>\n",
       "    <tr>\n",
       "      <th>0</th>\n",
       "      <td>2023-12-01</td>\n",
       "      <td>51.209999</td>\n",
       "      <td>-79.800003</td>\n",
       "      <td>0.476271</td>\n",
       "      <td>50.0</td>\n",
       "    </tr>\n",
       "    <tr>\n",
       "      <th>1</th>\n",
       "      <td>2023-12-01</td>\n",
       "      <td>51.240002</td>\n",
       "      <td>-79.919998</td>\n",
       "      <td>0.138498</td>\n",
       "      <td>50.0</td>\n",
       "    </tr>\n",
       "    <tr>\n",
       "      <th>2</th>\n",
       "      <td>2023-12-01</td>\n",
       "      <td>51.240002</td>\n",
       "      <td>-79.889999</td>\n",
       "      <td>0.156012</td>\n",
       "      <td>50.0</td>\n",
       "    </tr>\n",
       "    <tr>\n",
       "      <th>3</th>\n",
       "      <td>2023-12-01</td>\n",
       "      <td>51.240002</td>\n",
       "      <td>-79.860001</td>\n",
       "      <td>0.172790</td>\n",
       "      <td>50.0</td>\n",
       "    </tr>\n",
       "    <tr>\n",
       "      <th>4</th>\n",
       "      <td>2023-12-01</td>\n",
       "      <td>51.240002</td>\n",
       "      <td>-79.830002</td>\n",
       "      <td>0.271498</td>\n",
       "      <td>50.0</td>\n",
       "    </tr>\n",
       "  </tbody>\n",
       "</table>\n",
       "</div>"
      ],
      "text/plain": [
       "        time   latitude  longitude   sithick   int\n",
       "0 2023-12-01  51.209999 -79.800003  0.476271  50.0\n",
       "1 2023-12-01  51.240002 -79.919998  0.138498  50.0\n",
       "2 2023-12-01  51.240002 -79.889999  0.156012  50.0\n",
       "3 2023-12-01  51.240002 -79.860001  0.172790  50.0\n",
       "4 2023-12-01  51.240002 -79.830002  0.271498  50.0"
      ]
     },
     "execution_count": 60,
     "metadata": {},
     "output_type": "execute_result"
    }
   ],
   "source": [
    "thickness_new_df.head()"
   ]
  },
  {
   "cell_type": "code",
   "execution_count": 71,
   "id": "faa3a1d8",
   "metadata": {},
   "outputs": [],
   "source": [
    "mean_1993 = thickness_df.groupby('int')['sithick'].mean()\n",
    "mean_2023 = thickness_new_df.groupby('int')['sithick'].mean()"
   ]
  },
  {
   "cell_type": "code",
   "execution_count": 113,
   "id": "79b26990",
   "metadata": {},
   "outputs": [
    {
     "data": {
      "image/png": "[encoded data removed]",
      "text/plain": [
       "<Figure size 1000x600 with 1 Axes>"
      ]
     },
     "metadata": {},
     "output_type": "display_data"
    },
    {
     "data": {
      "text/plain": [
       "<Figure size 640x480 with 0 Axes>"
      ]
     },
     "metadata": {},
     "output_type": "display_data"
    }
   ],
   "source": [
    "label_map = {\n",
    "    50: \"50–55° N\",\n",
    "    55: \"55–60° N\",\n",
    "    60: \"60–65° N\",\n",
    "    65: \"65–70° N\",\n",
    "    70: \"70–75° N\",\n",
    "    75: \"75–80° N\",\n",
    "    80: \"80–85° N\",\n",
    "    85: \"85–90° N\",\n",
    "    90: \"90° N\"\n",
    "}\n",
    "\n",
    "x_labels = mean_1993.index.map(label_map)\n",
    "\n",
    "sns.set(style=\"whitegrid\", context=\"notebook\")\n",
    "plt.figure(figsize=(10, 6))\n",
    "\n",
    "sns.lineplot(\n",
    "    x=x_labels,\n",
    "    y=mean_1993.values,\n",
    "    label='1993',\n",
    "    linestyle='-',\n",
    "    color='lightsteelblue'\n",
    "    )\n",
    "\n",
    "sns.lineplot(\n",
    "    x=x_labels,\n",
    "    y=mean_2023.values,\n",
    "    label='2023',\n",
    "    linestyle='-',\n",
    "    color='aliceblue'\n",
    "    )\n",
    "\n",
    "plt.text(\n",
    "    x=len(x_labels)-0.9,\n",
    "    y=mean_1993.values[-1],\n",
    "    s='1993',\n",
    "    color='lightsteelblue',\n",
    "    fontsize=12,\n",
    "    va='center'\n",
    ")\n",
    "\n",
    "plt.text(\n",
    "    x=len(x_labels)-0.9,\n",
    "    y=mean_2023.values[-1],\n",
    "    s='2023',\n",
    "    color='aliceblue',\n",
    "    fontsize=10,\n",
    "    va='center'\n",
    ")\n",
    "\n",
    "\n",
    "plt.xlabel('Latitude')\n",
    "plt.ylabel('Ice thickness, m')\n",
    "plt.title('December Sea Ice Thickness by Latitude: 1993 vs 2023')\n",
    "plt.grid(axis='x')\n",
    "plt.legend().remove()\n",
    "sns.despine() \n",
    "\n",
    "plt.tight_layout()\n",
    "plt.show()\n",
    "plt.savefig('sea_ice_thickness_comparison.png', dpi=300, transparent=True)"
   ]
  },
  {
   "cell_type": "markdown",
   "id": "923336f3",
   "metadata": {},
   "source": [
    "# Area"
   ]
  },
  {
   "cell_type": "code",
   "execution_count": 42,
   "id": "149f8ff8",
   "metadata": {},
   "outputs": [
    {
     "name": "stderr",
     "output_type": "stream",
     "text": [
      "INFO - 2025-05-17T21:31:39Z - Selected dataset version: \"202411\"\n",
      "INFO - 2025-05-17T21:31:39Z - Selected dataset part: \"default\"\n",
      "INFO - 2025-05-17T21:31:41Z - Downloading Copernicus Marine data requires a Copernicus Marine username and password, sign up for free at: https://data.marine.copernicus.eu/register\n"
     ]
    },
    {
     "name": "stdout",
     "output_type": "stream",
     "text": [
      "Copernicus Marine username: ekalacheva\n",
      "Copernicus Marine password: ········\n"
     ]
    }
   ],
   "source": [
    "df_dec1993 = copernicusmarine.open_dataset(\n",
    "  dataset_id=\"cmems_mod_arc_phy_my_nextsim_P1M-m\",\n",
    "  variables=[\"siconc\"],\n",
    "  minimum_longitude=-180,\n",
    "  maximum_longitude=179.97000000001367,\n",
    "  minimum_latitude=49.98,\n",
    "  maximum_latitude=90.03000000000151,\n",
    "  start_datetime=\"1993-12-01T00:00:00\",\n",
    "  end_datetime=\"1993-12-01T00:00:00\",\n",
    ")"
   ]
  },
  {
   "cell_type": "code",
   "execution_count": 49,
   "id": "9c3a63d7",
   "metadata": {},
   "outputs": [],
   "source": [
    "def calculate_sea_ice_extent(ds):\n",
    "\n",
    "    R = 6371000  # radius in m\n",
    "\n",
    "    lat = ds['latitude'].values\n",
    "    lon = ds['longitude'].values\n",
    "\n",
    "    # Calculate cell sizes\n",
    "    dlat = np.radians(np.diff(lat))\n",
    "    dlon = np.radians(np.diff(lon))\n",
    "\n",
    "    dlat = np.append(dlat, dlat[-1])\n",
    "    dlon = np.append(dlon, dlon[-1])\n",
    "\n",
    "    area_cells = (R**2) * np.abs(dlat[:, np.newaxis] * dlon[np.newaxis, :] * np.cos(np.radians(lat[:, np.newaxis])))\n",
    "\n",
    "    area_da = xr.DataArray(area_cells, dims=['latitude', 'longitude'], coords={'latitude': lat, 'longitude': lon})\n",
    "\n",
    "    siconc = ds['siconc'].isel(time=0)\n",
    "\n",
    "    ice_coverage = siconc * area_da\n",
    "\n",
    "    total_ice_area_m2 = ice_coverage.sum(dim=['latitude', 'longitude'], skipna=True).values.item()\n",
    "\n",
    "    total_ice_area_km2 = total_ice_area_m2 * 1e-6\n",
    "\n",
    "    return total_ice_area_km2\n"
   ]
  },
  {
   "cell_type": "code",
   "execution_count": 50,
   "id": "9ead2aa9",
   "metadata": {},
   "outputs": [],
   "source": [
    "extent_dec_1993 = calculate_sea_ice_extent(df_dec1993)"
   ]
  },
  {
   "cell_type": "code",
   "execution_count": 51,
   "id": "e9993c44",
   "metadata": {},
   "outputs": [
    {
     "data": {
      "text/plain": [
       "11609439.03358356"
      ]
     },
     "execution_count": 51,
     "metadata": {},
     "output_type": "execute_result"
    }
   ],
   "source": [
    "extent_dec_1993"
   ]
  },
  {
   "cell_type": "code",
   "execution_count": 53,
   "id": "182a6498",
   "metadata": {},
   "outputs": [
    {
     "name": "stderr",
     "output_type": "stream",
     "text": [
      "INFO - 2025-05-17T22:45:19Z - Selected dataset version: \"202411\"\n",
      "INFO - 2025-05-17T22:45:19Z - Selected dataset part: \"default\"\n",
      "INFO - 2025-05-17T22:45:22Z - Downloading Copernicus Marine data requires a Copernicus Marine username and password, sign up for free at: https://data.marine.copernicus.eu/register\n"
     ]
    },
    {
     "name": "stdout",
     "output_type": "stream",
     "text": [
      "Copernicus Marine username: ekalacheva\n",
      "Copernicus Marine password: ········\n"
     ]
    }
   ],
   "source": [
    "df_1994 = copernicusmarine.open_dataset(\n",
    "  dataset_id=\"cmems_mod_arc_phy_my_nextsim_P1M-m\",\n",
    "  variables=[\"siconc\"],\n",
    "  minimum_longitude=-180,\n",
    "  maximum_longitude=179.97000000001367,\n",
    "  minimum_latitude=49.98,\n",
    "  maximum_latitude=90.03000000000151,\n",
    "  start_datetime=\"1994-12-01T00:00:00\",\n",
    "  end_datetime=\"1994-12-01T00:00:00\",\n",
    ")"
   ]
  },
  {
   "cell_type": "code",
   "execution_count": 54,
   "id": "7ee0eb42",
   "metadata": {},
   "outputs": [],
   "source": [
    "extent_dec_1994 = calculate_sea_ice_extent(df_1994)"
   ]
  },
  {
   "cell_type": "code",
   "execution_count": 55,
   "id": "f144b983",
   "metadata": {},
   "outputs": [
    {
     "name": "stderr",
     "output_type": "stream",
     "text": [
      "INFO - 2025-05-17T22:48:46Z - Selected dataset version: \"202411\"\n",
      "INFO - 2025-05-17T22:48:46Z - Selected dataset part: \"default\"\n",
      "INFO - 2025-05-17T22:48:48Z - Downloading Copernicus Marine data requires a Copernicus Marine username and password, sign up for free at: https://data.marine.copernicus.eu/register\n"
     ]
    },
    {
     "name": "stdout",
     "output_type": "stream",
     "text": [
      "Copernicus Marine username: ekalacheva\n",
      "Copernicus Marine password: ········\n"
     ]
    }
   ],
   "source": [
    "df_1995 = copernicusmarine.open_dataset(\n",
    "  dataset_id=\"cmems_mod_arc_phy_my_nextsim_P1M-m\",\n",
    "  variables=[\"siconc\"],\n",
    "  minimum_longitude=-180,\n",
    "  maximum_longitude=179.97000000001367,\n",
    "  minimum_latitude=49.98,\n",
    "  maximum_latitude=90.03000000000151,\n",
    "  start_datetime=\"1995-12-01T00:00:00\",\n",
    "  end_datetime=\"1995-12-01T00:00:00\",\n",
    ")"
   ]
  },
  {
   "cell_type": "code",
   "execution_count": 56,
   "id": "0a13fa52",
   "metadata": {},
   "outputs": [],
   "source": [
    "extent_dec_1995 = calculate_sea_ice_extent(df_1995)"
   ]
  },
  {
   "cell_type": "code",
   "execution_count": 57,
   "id": "b13daa52",
   "metadata": {},
   "outputs": [
    {
     "name": "stderr",
     "output_type": "stream",
     "text": [
      "INFO - 2025-05-17T22:52:31Z - Selected dataset version: \"202411\"\n",
      "INFO - 2025-05-17T22:52:31Z - Selected dataset part: \"default\"\n",
      "INFO - 2025-05-17T22:52:33Z - Downloading Copernicus Marine data requires a Copernicus Marine username and password, sign up for free at: https://data.marine.copernicus.eu/register\n"
     ]
    },
    {
     "name": "stdout",
     "output_type": "stream",
     "text": [
      "Copernicus Marine username: ekalacheva\n",
      "Copernicus Marine password: ········\n"
     ]
    }
   ],
   "source": [
    "df_1996 = copernicusmarine.open_dataset(\n",
    "  dataset_id=\"cmems_mod_arc_phy_my_nextsim_P1M-m\",\n",
    "  variables=[\"siconc\"],\n",
    "  minimum_longitude=-180,\n",
    "  maximum_longitude=179.97000000001367,\n",
    "  minimum_latitude=49.98,\n",
    "  maximum_latitude=90.03000000000151,\n",
    "  start_datetime=\"1996-12-01T00:00:00\",\n",
    "  end_datetime=\"1996-12-01T00:00:00\",\n",
    ")"
   ]
  },
  {
   "cell_type": "code",
   "execution_count": 59,
   "id": "27c3c78f",
   "metadata": {},
   "outputs": [],
   "source": [
    "extent_dec_1996 = calculate_sea_ice_extent(df_1996)"
   ]
  },
  {
   "cell_type": "code",
   "execution_count": 60,
   "id": "9aa49a05",
   "metadata": {},
   "outputs": [
    {
     "name": "stderr",
     "output_type": "stream",
     "text": [
      "INFO - 2025-05-17T22:54:36Z - Selected dataset version: \"202411\"\n",
      "INFO - 2025-05-17T22:54:36Z - Selected dataset part: \"default\"\n",
      "INFO - 2025-05-17T22:54:38Z - Downloading Copernicus Marine data requires a Copernicus Marine username and password, sign up for free at: https://data.marine.copernicus.eu/register\n"
     ]
    },
    {
     "name": "stdout",
     "output_type": "stream",
     "text": [
      "Copernicus Marine username: ekalacheva\n",
      "Copernicus Marine password: ········\n"
     ]
    }
   ],
   "source": [
    "df_1997 = copernicusmarine.open_dataset(\n",
    "  dataset_id=\"cmems_mod_arc_phy_my_nextsim_P1M-m\",\n",
    "  variables=[\"siconc\"],\n",
    "  minimum_longitude=-180,\n",
    "  maximum_longitude=179.97000000001367,\n",
    "  minimum_latitude=49.98,\n",
    "  maximum_latitude=90.03000000000151,\n",
    "  start_datetime=\"1997-12-01T00:00:00\",\n",
    "  end_datetime=\"1997-12-01T00:00:00\",\n",
    ")"
   ]
  },
  {
   "cell_type": "code",
   "execution_count": 61,
   "id": "db6f4c32",
   "metadata": {},
   "outputs": [],
   "source": [
    "extent_dec_1997 = calculate_sea_ice_extent(df_1997)"
   ]
  },
  {
   "cell_type": "code",
   "execution_count": 62,
   "id": "2737905e",
   "metadata": {},
   "outputs": [
    {
     "name": "stderr",
     "output_type": "stream",
     "text": [
      "INFO - 2025-05-17T23:00:47Z - Selected dataset version: \"202411\"\n",
      "INFO - 2025-05-17T23:00:48Z - Selected dataset part: \"default\"\n",
      "INFO - 2025-05-17T23:00:49Z - Downloading Copernicus Marine data requires a Copernicus Marine username and password, sign up for free at: https://data.marine.copernicus.eu/register\n"
     ]
    },
    {
     "name": "stdout",
     "output_type": "stream",
     "text": [
      "Copernicus Marine username: ekalacheva\n",
      "Copernicus Marine password: ········\n"
     ]
    }
   ],
   "source": [
    "df_1998 = copernicusmarine.open_dataset(\n",
    "  dataset_id=\"cmems_mod_arc_phy_my_nextsim_P1M-m\",\n",
    "  variables=[\"siconc\"],\n",
    "  minimum_longitude=-180,\n",
    "  maximum_longitude=179.97000000001367,\n",
    "  minimum_latitude=49.98,\n",
    "  maximum_latitude=90.03000000000151,\n",
    "  start_datetime=\"1998-12-01T00:00:00\",\n",
    "  end_datetime=\"1998-12-01T00:00:00\",\n",
    ")"
   ]
  },
  {
   "cell_type": "code",
   "execution_count": 63,
   "id": "6f84447c",
   "metadata": {},
   "outputs": [],
   "source": [
    "extent_dec_1998 = calculate_sea_ice_extent(df_1998)"
   ]
  },
  {
   "cell_type": "code",
   "execution_count": 64,
   "id": "0f85a4b5",
   "metadata": {},
   "outputs": [
    {
     "name": "stderr",
     "output_type": "stream",
     "text": [
      "INFO - 2025-05-17T23:03:18Z - Selected dataset version: \"202411\"\n",
      "INFO - 2025-05-17T23:03:18Z - Selected dataset part: \"default\"\n",
      "INFO - 2025-05-17T23:03:19Z - Downloading Copernicus Marine data requires a Copernicus Marine username and password, sign up for free at: https://data.marine.copernicus.eu/register\n"
     ]
    },
    {
     "name": "stdout",
     "output_type": "stream",
     "text": [
      "Copernicus Marine username: ekalacheva\n",
      "Copernicus Marine password: ········\n"
     ]
    }
   ],
   "source": [
    "df_1999 = copernicusmarine.open_dataset(\n",
    "  dataset_id=\"cmems_mod_arc_phy_my_nextsim_P1M-m\",\n",
    "  variables=[\"siconc\"],\n",
    "  minimum_longitude=-180,\n",
    "  maximum_longitude=179.97000000001367,\n",
    "  minimum_latitude=49.98,\n",
    "  maximum_latitude=90.03000000000151,\n",
    "  start_datetime=\"1999-12-01T00:00:00\",\n",
    "  end_datetime=\"1999-12-01T00:00:00\",\n",
    ")"
   ]
  },
  {
   "cell_type": "code",
   "execution_count": 65,
   "id": "b20e2126",
   "metadata": {},
   "outputs": [],
   "source": [
    "extent_dec_1999 = calculate_sea_ice_extent(df_1999)"
   ]
  },
  {
   "cell_type": "code",
   "execution_count": 66,
   "id": "b592666b",
   "metadata": {},
   "outputs": [
    {
     "name": "stderr",
     "output_type": "stream",
     "text": [
      "INFO - 2025-05-17T23:10:08Z - Selected dataset version: \"202411\"\n",
      "INFO - 2025-05-17T23:10:08Z - Selected dataset part: \"default\"\n",
      "INFO - 2025-05-17T23:10:10Z - Downloading Copernicus Marine data requires a Copernicus Marine username and password, sign up for free at: https://data.marine.copernicus.eu/register\n"
     ]
    },
    {
     "name": "stdout",
     "output_type": "stream",
     "text": [
      "Copernicus Marine username: ekalacheva\n",
      "Copernicus Marine password: ········\n"
     ]
    }
   ],
   "source": [
    "df_2000 = copernicusmarine.open_dataset(\n",
    "  dataset_id=\"cmems_mod_arc_phy_my_nextsim_P1M-m\",\n",
    "  variables=[\"siconc\"],\n",
    "  minimum_longitude=-180,\n",
    "  maximum_longitude=179.97000000001367,\n",
    "  minimum_latitude=49.98,\n",
    "  maximum_latitude=90.03000000000151,\n",
    "  start_datetime=\"2000-12-01T00:00:00\",\n",
    "  end_datetime=\"2000-12-01T00:00:00\",\n",
    ")"
   ]
  },
  {
   "cell_type": "code",
   "execution_count": 67,
   "id": "587fdf11",
   "metadata": {},
   "outputs": [],
   "source": [
    "extent_dec_2000 = calculate_sea_ice_extent(df_2000)"
   ]
  },
  {
   "cell_type": "code",
   "execution_count": 68,
   "id": "3c0b8a3d",
   "metadata": {},
   "outputs": [
    {
     "name": "stderr",
     "output_type": "stream",
     "text": [
      "INFO - 2025-05-17T23:15:25Z - Selected dataset version: \"202411\"\n",
      "INFO - 2025-05-17T23:15:25Z - Selected dataset part: \"default\"\n",
      "INFO - 2025-05-17T23:15:26Z - Downloading Copernicus Marine data requires a Copernicus Marine username and password, sign up for free at: https://data.marine.copernicus.eu/register\n"
     ]
    },
    {
     "name": "stdout",
     "output_type": "stream",
     "text": [
      "Copernicus Marine username: ekalacheva\n",
      "Copernicus Marine password: ········\n"
     ]
    }
   ],
   "source": [
    "df_2001 = copernicusmarine.open_dataset(\n",
    "  dataset_id=\"cmems_mod_arc_phy_my_nextsim_P1M-m\",\n",
    "  variables=[\"siconc\"],\n",
    "  minimum_longitude=-180,\n",
    "  maximum_longitude=179.97000000001367,\n",
    "  minimum_latitude=49.98,\n",
    "  maximum_latitude=90.03000000000151,\n",
    "  start_datetime=\"2001-12-01T00:00:00\",\n",
    "  end_datetime=\"2001-12-01T00:00:00\",\n",
    ")"
   ]
  },
  {
   "cell_type": "code",
   "execution_count": 69,
   "id": "6495fc24",
   "metadata": {},
   "outputs": [],
   "source": [
    "extent_dec_2001 = calculate_sea_ice_extent(df_2001)"
   ]
  },
  {
   "cell_type": "code",
   "execution_count": 70,
   "id": "56189495",
   "metadata": {},
   "outputs": [
    {
     "name": "stderr",
     "output_type": "stream",
     "text": [
      "INFO - 2025-05-17T23:17:22Z - Selected dataset version: \"202411\"\n",
      "INFO - 2025-05-17T23:17:22Z - Selected dataset part: \"default\"\n",
      "INFO - 2025-05-17T23:17:24Z - Downloading Copernicus Marine data requires a Copernicus Marine username and password, sign up for free at: https://data.marine.copernicus.eu/register\n"
     ]
    },
    {
     "name": "stdout",
     "output_type": "stream",
     "text": [
      "Copernicus Marine username: ekalacheva\n",
      "Copernicus Marine password: ········\n"
     ]
    }
   ],
   "source": [
    "df_2002 = copernicusmarine.open_dataset(\n",
    "  dataset_id=\"cmems_mod_arc_phy_my_nextsim_P1M-m\",\n",
    "  variables=[\"siconc\"],\n",
    "  minimum_longitude=-180,\n",
    "  maximum_longitude=179.97000000001367,\n",
    "  minimum_latitude=49.98,\n",
    "  maximum_latitude=90.03000000000151,\n",
    "  start_datetime=\"2002-12-01T00:00:00\",\n",
    "  end_datetime=\"2002-12-01T00:00:00\",\n",
    ")"
   ]
  },
  {
   "cell_type": "code",
   "execution_count": 71,
   "id": "5b8f296c",
   "metadata": {},
   "outputs": [],
   "source": [
    "extent_dec_2002 = calculate_sea_ice_extent(df_2002)"
   ]
  },
  {
   "cell_type": "code",
   "execution_count": 72,
   "id": "c48f3d77",
   "metadata": {},
   "outputs": [
    {
     "name": "stderr",
     "output_type": "stream",
     "text": [
      "INFO - 2025-05-17T23:18:43Z - Selected dataset version: \"202411\"\n",
      "INFO - 2025-05-17T23:18:43Z - Selected dataset part: \"default\"\n",
      "INFO - 2025-05-17T23:18:45Z - Downloading Copernicus Marine data requires a Copernicus Marine username and password, sign up for free at: https://data.marine.copernicus.eu/register\n"
     ]
    },
    {
     "name": "stdout",
     "output_type": "stream",
     "text": [
      "Copernicus Marine username: ekalacheva\n",
      "Copernicus Marine password: ········\n"
     ]
    }
   ],
   "source": [
    "df_2003 = copernicusmarine.open_dataset(\n",
    "  dataset_id=\"cmems_mod_arc_phy_my_nextsim_P1M-m\",\n",
    "  variables=[\"siconc\"],\n",
    "  minimum_longitude=-180,\n",
    "  maximum_longitude=179.97000000001367,\n",
    "  minimum_latitude=49.98,\n",
    "  maximum_latitude=90.03000000000151,\n",
    "  start_datetime=\"2003-12-01T00:00:00\",\n",
    "  end_datetime=\"2003-12-01T00:00:00\",\n",
    ")"
   ]
  },
  {
   "cell_type": "code",
   "execution_count": 73,
   "id": "a0a6f43a",
   "metadata": {},
   "outputs": [],
   "source": [
    "extent_dec_2003 = calculate_sea_ice_extent(df_2003)"
   ]
  },
  {
   "cell_type": "code",
   "execution_count": 74,
   "id": "f47b2c9d",
   "metadata": {},
   "outputs": [
    {
     "name": "stderr",
     "output_type": "stream",
     "text": [
      "INFO - 2025-05-17T23:19:46Z - Selected dataset version: \"202411\"\n",
      "INFO - 2025-05-17T23:19:46Z - Selected dataset part: \"default\"\n",
      "INFO - 2025-05-17T23:19:47Z - Downloading Copernicus Marine data requires a Copernicus Marine username and password, sign up for free at: https://data.marine.copernicus.eu/register\n"
     ]
    },
    {
     "name": "stdout",
     "output_type": "stream",
     "text": [
      "Copernicus Marine username: ekalacheva\n",
      "Copernicus Marine password: ········\n"
     ]
    }
   ],
   "source": [
    "df_2004 = copernicusmarine.open_dataset(\n",
    "  dataset_id=\"cmems_mod_arc_phy_my_nextsim_P1M-m\",\n",
    "  variables=[\"siconc\"],\n",
    "  minimum_longitude=-180,\n",
    "  maximum_longitude=179.97000000001367,\n",
    "  minimum_latitude=49.98,\n",
    "  maximum_latitude=90.03000000000151,\n",
    "  start_datetime=\"2004-12-01T00:00:00\",\n",
    "  end_datetime=\"2004-12-01T00:00:00\",\n",
    ")"
   ]
  },
  {
   "cell_type": "code",
   "execution_count": 75,
   "id": "4880f55d",
   "metadata": {},
   "outputs": [],
   "source": [
    "extent_dec_2004 = calculate_sea_ice_extent(df_2004)"
   ]
  },
  {
   "cell_type": "code",
   "execution_count": 76,
   "id": "0af8ee4b",
   "metadata": {},
   "outputs": [
    {
     "name": "stderr",
     "output_type": "stream",
     "text": [
      "INFO - 2025-05-17T23:20:42Z - Selected dataset version: \"202411\"\n",
      "INFO - 2025-05-17T23:20:42Z - Selected dataset part: \"default\"\n",
      "INFO - 2025-05-17T23:20:43Z - Downloading Copernicus Marine data requires a Copernicus Marine username and password, sign up for free at: https://data.marine.copernicus.eu/register\n"
     ]
    },
    {
     "name": "stdout",
     "output_type": "stream",
     "text": [
      "Copernicus Marine username: ekalacheva\n",
      "Copernicus Marine password: ········\n"
     ]
    }
   ],
   "source": [
    "df_2005 = copernicusmarine.open_dataset(\n",
    "  dataset_id=\"cmems_mod_arc_phy_my_nextsim_P1M-m\",\n",
    "  variables=[\"siconc\"],\n",
    "  minimum_longitude=-180,\n",
    "  maximum_longitude=179.97000000001367,\n",
    "  minimum_latitude=49.98,\n",
    "  maximum_latitude=90.03000000000151,\n",
    "  start_datetime=\"2005-12-01T00:00:00\",\n",
    "  end_datetime=\"2005-12-01T00:00:00\",\n",
    ")"
   ]
  },
  {
   "cell_type": "code",
   "execution_count": 77,
   "id": "86717928",
   "metadata": {},
   "outputs": [],
   "source": [
    "extent_dec_2005 = calculate_sea_ice_extent(df_2005)"
   ]
  },
  {
   "cell_type": "code",
   "execution_count": 78,
   "id": "d8e3768c",
   "metadata": {},
   "outputs": [
    {
     "name": "stderr",
     "output_type": "stream",
     "text": [
      "INFO - 2025-05-17T23:21:39Z - Selected dataset version: \"202411\"\n",
      "INFO - 2025-05-17T23:21:39Z - Selected dataset part: \"default\"\n",
      "INFO - 2025-05-17T23:21:41Z - Downloading Copernicus Marine data requires a Copernicus Marine username and password, sign up for free at: https://data.marine.copernicus.eu/register\n"
     ]
    },
    {
     "name": "stdout",
     "output_type": "stream",
     "text": [
      "Copernicus Marine username: ekaacheva\n",
      "Copernicus Marine password: ········\n"
     ]
    }
   ],
   "source": [
    "df_2006 = copernicusmarine.open_dataset(\n",
    "  dataset_id=\"cmems_mod_arc_phy_my_nextsim_P1M-m\",\n",
    "  variables=[\"siconc\"],\n",
    "  minimum_longitude=-180,\n",
    "  maximum_longitude=179.97000000001367,\n",
    "  minimum_latitude=49.98,\n",
    "  maximum_latitude=90.03000000000151,\n",
    "  start_datetime=\"2006-12-01T00:00:00\",\n",
    "  end_datetime=\"2006-12-01T00:00:00\",\n",
    ")"
   ]
  },
  {
   "cell_type": "code",
   "execution_count": 79,
   "id": "73e52da9",
   "metadata": {},
   "outputs": [],
   "source": [
    "extent_dec_2006 = calculate_sea_ice_extent(df_2006)"
   ]
  },
  {
   "cell_type": "code",
   "execution_count": 80,
   "id": "6bcdf4d1",
   "metadata": {},
   "outputs": [
    {
     "name": "stderr",
     "output_type": "stream",
     "text": [
      "INFO - 2025-05-17T23:22:20Z - Selected dataset version: \"202411\"\n",
      "INFO - 2025-05-17T23:22:20Z - Selected dataset part: \"default\"\n",
      "INFO - 2025-05-17T23:22:22Z - Downloading Copernicus Marine data requires a Copernicus Marine username and password, sign up for free at: https://data.marine.copernicus.eu/register\n"
     ]
    },
    {
     "name": "stdout",
     "output_type": "stream",
     "text": [
      "Copernicus Marine username: ekalacheva\n",
      "Copernicus Marine password: ········\n"
     ]
    }
   ],
   "source": [
    "df_2007 = copernicusmarine.open_dataset(\n",
    "  dataset_id=\"cmems_mod_arc_phy_my_nextsim_P1M-m\",\n",
    "  variables=[\"siconc\"],\n",
    "  minimum_longitude=-180,\n",
    "  maximum_longitude=179.97000000001367,\n",
    "  minimum_latitude=49.98,\n",
    "  maximum_latitude=90.03000000000151,\n",
    "  start_datetime=\"2007-12-01T00:00:00\",\n",
    "  end_datetime=\"2007-12-01T00:00:00\",\n",
    ")"
   ]
  },
  {
   "cell_type": "code",
   "execution_count": 81,
   "id": "2df9c1ef",
   "metadata": {},
   "outputs": [],
   "source": [
    "extent_dec_2007 = calculate_sea_ice_extent(df_2007)"
   ]
  },
  {
   "cell_type": "code",
   "execution_count": 82,
   "id": "12a73cb7",
   "metadata": {},
   "outputs": [
    {
     "name": "stderr",
     "output_type": "stream",
     "text": [
      "INFO - 2025-05-17T23:22:56Z - Selected dataset version: \"202411\"\n",
      "INFO - 2025-05-17T23:22:56Z - Selected dataset part: \"default\"\n",
      "INFO - 2025-05-17T23:22:58Z - Downloading Copernicus Marine data requires a Copernicus Marine username and password, sign up for free at: https://data.marine.copernicus.eu/register\n"
     ]
    },
    {
     "name": "stdout",
     "output_type": "stream",
     "text": [
      "Copernicus Marine username: ekalacheva\n",
      "Copernicus Marine password: ········\n"
     ]
    }
   ],
   "source": [
    "df_2008 = copernicusmarine.open_dataset(\n",
    "  dataset_id=\"cmems_mod_arc_phy_my_nextsim_P1M-m\",\n",
    "  variables=[\"siconc\"],\n",
    "  minimum_longitude=-180,\n",
    "  maximum_longitude=179.97000000001367,\n",
    "  minimum_latitude=49.98,\n",
    "  maximum_latitude=90.03000000000151,\n",
    "  start_datetime=\"2008-12-01T00:00:00\",\n",
    "  end_datetime=\"2008-12-01T00:00:00\",\n",
    ")"
   ]
  },
  {
   "cell_type": "code",
   "execution_count": 83,
   "id": "5c21c808",
   "metadata": {},
   "outputs": [],
   "source": [
    "extent_dec_2008 = calculate_sea_ice_extent(df_2008)"
   ]
  },
  {
   "cell_type": "code",
   "execution_count": 84,
   "id": "592bb305",
   "metadata": {},
   "outputs": [
    {
     "name": "stderr",
     "output_type": "stream",
     "text": [
      "INFO - 2025-05-17T23:23:41Z - Selected dataset version: \"202411\"\n",
      "INFO - 2025-05-17T23:23:41Z - Selected dataset part: \"default\"\n",
      "INFO - 2025-05-17T23:23:43Z - Downloading Copernicus Marine data requires a Copernicus Marine username and password, sign up for free at: https://data.marine.copernicus.eu/register\n"
     ]
    },
    {
     "name": "stdout",
     "output_type": "stream",
     "text": [
      "Copernicus Marine username: ekalacheva\n",
      "Copernicus Marine password: ········\n"
     ]
    }
   ],
   "source": [
    "df_2009 = copernicusmarine.open_dataset(\n",
    "  dataset_id=\"cmems_mod_arc_phy_my_nextsim_P1M-m\",\n",
    "  variables=[\"siconc\"],\n",
    "  minimum_longitude=-180,\n",
    "  maximum_longitude=179.97000000001367,\n",
    "  minimum_latitude=49.98,\n",
    "  maximum_latitude=90.03000000000151,\n",
    "  start_datetime=\"2009-12-01T00:00:00\",\n",
    "  end_datetime=\"2009-12-01T00:00:00\",\n",
    ")"
   ]
  },
  {
   "cell_type": "code",
   "execution_count": 85,
   "id": "97745d1f",
   "metadata": {},
   "outputs": [],
   "source": [
    "extent_dec_2009 = calculate_sea_ice_extent(df_2009)"
   ]
  },
  {
   "cell_type": "code",
   "execution_count": 86,
   "id": "d43a734c",
   "metadata": {},
   "outputs": [
    {
     "name": "stderr",
     "output_type": "stream",
     "text": [
      "INFO - 2025-05-17T23:24:43Z - Selected dataset version: \"202411\"\n",
      "INFO - 2025-05-17T23:24:43Z - Selected dataset part: \"default\"\n",
      "INFO - 2025-05-17T23:24:45Z - Downloading Copernicus Marine data requires a Copernicus Marine username and password, sign up for free at: https://data.marine.copernicus.eu/register\n"
     ]
    },
    {
     "name": "stdout",
     "output_type": "stream",
     "text": [
      "Copernicus Marine username: ekalacheva\n",
      "Copernicus Marine password: ········\n"
     ]
    }
   ],
   "source": [
    "df_2010 = copernicusmarine.open_dataset(\n",
    "  dataset_id=\"cmems_mod_arc_phy_my_nextsim_P1M-m\",\n",
    "  variables=[\"siconc\"],\n",
    "  minimum_longitude=-180,\n",
    "  maximum_longitude=179.97000000001367,\n",
    "  minimum_latitude=49.98,\n",
    "  maximum_latitude=90.03000000000151,\n",
    "  start_datetime=\"2010-12-01T00:00:00\",\n",
    "  end_datetime=\"2010-12-01T00:00:00\",\n",
    ")"
   ]
  },
  {
   "cell_type": "code",
   "execution_count": 87,
   "id": "4afd3ad3",
   "metadata": {},
   "outputs": [],
   "source": [
    "extent_dec_2010 = calculate_sea_ice_extent(df_2010)"
   ]
  },
  {
   "cell_type": "code",
   "execution_count": 88,
   "id": "38a51a4a",
   "metadata": {},
   "outputs": [
    {
     "name": "stderr",
     "output_type": "stream",
     "text": [
      "INFO - 2025-05-17T23:25:20Z - Selected dataset version: \"202411\"\n",
      "INFO - 2025-05-17T23:25:20Z - Selected dataset part: \"default\"\n",
      "INFO - 2025-05-17T23:25:22Z - Downloading Copernicus Marine data requires a Copernicus Marine username and password, sign up for free at: https://data.marine.copernicus.eu/register\n"
     ]
    },
    {
     "name": "stdout",
     "output_type": "stream",
     "text": [
      "Copernicus Marine username: ekalacheva\n",
      "Copernicus Marine password: ········\n"
     ]
    }
   ],
   "source": [
    "df_2011 = copernicusmarine.open_dataset(\n",
    "  dataset_id=\"cmems_mod_arc_phy_my_nextsim_P1M-m\",\n",
    "  variables=[\"siconc\"],\n",
    "  minimum_longitude=-180,\n",
    "  maximum_longitude=179.97000000001367,\n",
    "  minimum_latitude=49.98,\n",
    "  maximum_latitude=90.03000000000151,\n",
    "  start_datetime=\"2011-12-01T00:00:00\",\n",
    "  end_datetime=\"2011-12-01T00:00:00\",\n",
    ")"
   ]
  },
  {
   "cell_type": "code",
   "execution_count": 90,
   "id": "ff4e8697",
   "metadata": {},
   "outputs": [],
   "source": [
    "extent_dec_2011 = calculate_sea_ice_extent(df_2011)"
   ]
  },
  {
   "cell_type": "code",
   "execution_count": 91,
   "id": "f9117a56",
   "metadata": {},
   "outputs": [
    {
     "name": "stderr",
     "output_type": "stream",
     "text": [
      "INFO - 2025-05-17T23:26:07Z - Selected dataset version: \"202411\"\n",
      "INFO - 2025-05-17T23:26:07Z - Selected dataset part: \"default\"\n",
      "INFO - 2025-05-17T23:26:09Z - Downloading Copernicus Marine data requires a Copernicus Marine username and password, sign up for free at: https://data.marine.copernicus.eu/register\n"
     ]
    },
    {
     "name": "stdout",
     "output_type": "stream",
     "text": [
      "Copernicus Marine username: ekalacheva\n",
      "Copernicus Marine password: ········\n"
     ]
    }
   ],
   "source": [
    "df_2012 = copernicusmarine.open_dataset(\n",
    "  dataset_id=\"cmems_mod_arc_phy_my_nextsim_P1M-m\",\n",
    "  variables=[\"siconc\"],\n",
    "  minimum_longitude=-180,\n",
    "  maximum_longitude=179.97000000001367,\n",
    "  minimum_latitude=49.98,\n",
    "  maximum_latitude=90.03000000000151,\n",
    "  start_datetime=\"2012-12-01T00:00:00\",\n",
    "  end_datetime=\"2012-12-01T00:00:00\",\n",
    ")"
   ]
  },
  {
   "cell_type": "code",
   "execution_count": 92,
   "id": "b4f6f210",
   "metadata": {},
   "outputs": [],
   "source": [
    "extent_dec_2012 = calculate_sea_ice_extent(df_2012)"
   ]
  },
  {
   "cell_type": "code",
   "execution_count": 93,
   "id": "b22ac592",
   "metadata": {},
   "outputs": [
    {
     "name": "stderr",
     "output_type": "stream",
     "text": [
      "INFO - 2025-05-17T23:26:47Z - Selected dataset version: \"202411\"\n",
      "INFO - 2025-05-17T23:26:47Z - Selected dataset part: \"default\"\n",
      "INFO - 2025-05-17T23:26:49Z - Downloading Copernicus Marine data requires a Copernicus Marine username and password, sign up for free at: https://data.marine.copernicus.eu/register\n"
     ]
    },
    {
     "name": "stdout",
     "output_type": "stream",
     "text": [
      "Copernicus Marine username: ekalacheva\n",
      "Copernicus Marine password: ········\n"
     ]
    }
   ],
   "source": [
    "df_2013 = copernicusmarine.open_dataset(\n",
    "  dataset_id=\"cmems_mod_arc_phy_my_nextsim_P1M-m\",\n",
    "  variables=[\"siconc\"],\n",
    "  minimum_longitude=-180,\n",
    "  maximum_longitude=179.97000000001367,\n",
    "  minimum_latitude=49.98,\n",
    "  maximum_latitude=90.03000000000151,\n",
    "  start_datetime=\"2013-12-01T00:00:00\",\n",
    "  end_datetime=\"2013-12-01T00:00:00\",\n",
    ")"
   ]
  },
  {
   "cell_type": "code",
   "execution_count": 94,
   "id": "4f966605",
   "metadata": {},
   "outputs": [],
   "source": [
    "extent_dec_2013 = calculate_sea_ice_extent(df_2013)"
   ]
  },
  {
   "cell_type": "code",
   "execution_count": 95,
   "id": "60dee079",
   "metadata": {},
   "outputs": [
    {
     "name": "stderr",
     "output_type": "stream",
     "text": [
      "INFO - 2025-05-17T23:27:35Z - Selected dataset version: \"202411\"\n",
      "INFO - 2025-05-17T23:27:35Z - Selected dataset part: \"default\"\n",
      "INFO - 2025-05-17T23:27:36Z - Downloading Copernicus Marine data requires a Copernicus Marine username and password, sign up for free at: https://data.marine.copernicus.eu/register\n"
     ]
    },
    {
     "name": "stdout",
     "output_type": "stream",
     "text": [
      "Copernicus Marine username: ekalacheva\n",
      "Copernicus Marine password: ········\n"
     ]
    }
   ],
   "source": [
    "df_2014 = copernicusmarine.open_dataset(\n",
    "  dataset_id=\"cmems_mod_arc_phy_my_nextsim_P1M-m\",\n",
    "  variables=[\"siconc\"],\n",
    "  minimum_longitude=-180,\n",
    "  maximum_longitude=179.97000000001367,\n",
    "  minimum_latitude=49.98,\n",
    "  maximum_latitude=90.03000000000151,\n",
    "  start_datetime=\"2014-12-01T00:00:00\",\n",
    "  end_datetime=\"2014-12-01T00:00:00\",\n",
    ")"
   ]
  },
  {
   "cell_type": "code",
   "execution_count": 96,
   "id": "84cc5f1d",
   "metadata": {},
   "outputs": [],
   "source": [
    "extent_dec_2014 = calculate_sea_ice_extent(df_2014)"
   ]
  },
  {
   "cell_type": "code",
   "execution_count": 97,
   "id": "765b6923",
   "metadata": {},
   "outputs": [
    {
     "name": "stderr",
     "output_type": "stream",
     "text": [
      "INFO - 2025-05-17T23:28:16Z - Selected dataset version: \"202411\"\n",
      "INFO - 2025-05-17T23:28:16Z - Selected dataset part: \"default\"\n",
      "INFO - 2025-05-17T23:28:17Z - Downloading Copernicus Marine data requires a Copernicus Marine username and password, sign up for free at: https://data.marine.copernicus.eu/register\n"
     ]
    },
    {
     "name": "stdout",
     "output_type": "stream",
     "text": [
      "Copernicus Marine username: ekalacheva\n",
      "Copernicus Marine password: ········\n"
     ]
    }
   ],
   "source": [
    "df_2015 = copernicusmarine.open_dataset(\n",
    "  dataset_id=\"cmems_mod_arc_phy_my_nextsim_P1M-m\",\n",
    "  variables=[\"siconc\"],\n",
    "  minimum_longitude=-180,\n",
    "  maximum_longitude=179.97000000001367,\n",
    "  minimum_latitude=49.98,\n",
    "  maximum_latitude=90.03000000000151,\n",
    "  start_datetime=\"2015-12-01T00:00:00\",\n",
    "  end_datetime=\"2015-12-01T00:00:00\",\n",
    ")"
   ]
  },
  {
   "cell_type": "code",
   "execution_count": 98,
   "id": "0307f8ea",
   "metadata": {},
   "outputs": [],
   "source": [
    "extent_dec_2015 = calculate_sea_ice_extent(df_2015)"
   ]
  },
  {
   "cell_type": "code",
   "execution_count": 99,
   "id": "6184719e",
   "metadata": {},
   "outputs": [
    {
     "name": "stderr",
     "output_type": "stream",
     "text": [
      "INFO - 2025-05-17T23:29:02Z - Selected dataset version: \"202411\"\n",
      "INFO - 2025-05-17T23:29:02Z - Selected dataset part: \"default\"\n",
      "INFO - 2025-05-17T23:29:04Z - Downloading Copernicus Marine data requires a Copernicus Marine username and password, sign up for free at: https://data.marine.copernicus.eu/register\n"
     ]
    },
    {
     "name": "stdout",
     "output_type": "stream",
     "text": [
      "Copernicus Marine username: ekalacheva\n",
      "Copernicus Marine password: ········\n"
     ]
    }
   ],
   "source": [
    "df_2016 = copernicusmarine.open_dataset(\n",
    "  dataset_id=\"cmems_mod_arc_phy_my_nextsim_P1M-m\",\n",
    "  variables=[\"siconc\"],\n",
    "  minimum_longitude=-180,\n",
    "  maximum_longitude=179.97000000001367,\n",
    "  minimum_latitude=49.98,\n",
    "  maximum_latitude=90.03000000000151,\n",
    "  start_datetime=\"2016-12-01T00:00:00\",\n",
    "  end_datetime=\"2016-12-01T00:00:00\",\n",
    ")"
   ]
  },
  {
   "cell_type": "code",
   "execution_count": 100,
   "id": "87f3a7d3",
   "metadata": {},
   "outputs": [],
   "source": [
    "extent_dec_2016 = calculate_sea_ice_extent(df_2016)"
   ]
  },
  {
   "cell_type": "code",
   "execution_count": 101,
   "id": "dae0a6ec",
   "metadata": {},
   "outputs": [
    {
     "name": "stderr",
     "output_type": "stream",
     "text": [
      "INFO - 2025-05-17T23:29:54Z - Selected dataset version: \"202411\"\n",
      "INFO - 2025-05-17T23:29:54Z - Selected dataset part: \"default\"\n",
      "INFO - 2025-05-17T23:29:56Z - Downloading Copernicus Marine data requires a Copernicus Marine username and password, sign up for free at: https://data.marine.copernicus.eu/register\n"
     ]
    },
    {
     "name": "stdout",
     "output_type": "stream",
     "text": [
      "Copernicus Marine username: ekalacheva\n",
      "Copernicus Marine password: ········\n"
     ]
    }
   ],
   "source": [
    "df_2017 = copernicusmarine.open_dataset(\n",
    "  dataset_id=\"cmems_mod_arc_phy_my_nextsim_P1M-m\",\n",
    "  variables=[\"siconc\"],\n",
    "  minimum_longitude=-180,\n",
    "  maximum_longitude=179.97000000001367,\n",
    "  minimum_latitude=49.98,\n",
    "  maximum_latitude=90.03000000000151,\n",
    "  start_datetime=\"2017-12-01T00:00:00\",\n",
    "  end_datetime=\"2017-12-01T00:00:00\",\n",
    ")"
   ]
  },
  {
   "cell_type": "code",
   "execution_count": 102,
   "id": "7e94f354",
   "metadata": {},
   "outputs": [],
   "source": [
    "extent_dec_2017 = calculate_sea_ice_extent(df_2017)"
   ]
  },
  {
   "cell_type": "code",
   "execution_count": 103,
   "id": "a6a549ce",
   "metadata": {},
   "outputs": [
    {
     "name": "stderr",
     "output_type": "stream",
     "text": [
      "INFO - 2025-05-17T23:30:31Z - Selected dataset version: \"202411\"\n",
      "INFO - 2025-05-17T23:30:31Z - Selected dataset part: \"default\"\n",
      "INFO - 2025-05-17T23:30:33Z - Downloading Copernicus Marine data requires a Copernicus Marine username and password, sign up for free at: https://data.marine.copernicus.eu/register\n"
     ]
    },
    {
     "name": "stdout",
     "output_type": "stream",
     "text": [
      "Copernicus Marine username: ekalacheva\n",
      "Copernicus Marine password: ········\n"
     ]
    }
   ],
   "source": [
    "df_2018 = copernicusmarine.open_dataset(\n",
    "  dataset_id=\"cmems_mod_arc_phy_my_nextsim_P1M-m\",\n",
    "  variables=[\"siconc\"],\n",
    "  minimum_longitude=-180,\n",
    "  maximum_longitude=179.97000000001367,\n",
    "  minimum_latitude=49.98,\n",
    "  maximum_latitude=90.03000000000151,\n",
    "  start_datetime=\"2018-12-01T00:00:00\",\n",
    "  end_datetime=\"2018-12-01T00:00:00\",\n",
    ")"
   ]
  },
  {
   "cell_type": "code",
   "execution_count": 104,
   "id": "6a3ce6b8",
   "metadata": {},
   "outputs": [],
   "source": [
    "extent_dec_2018 = calculate_sea_ice_extent(df_2018)"
   ]
  },
  {
   "cell_type": "code",
   "execution_count": 105,
   "id": "356339ae",
   "metadata": {},
   "outputs": [
    {
     "name": "stderr",
     "output_type": "stream",
     "text": [
      "INFO - 2025-05-17T23:31:06Z - Selected dataset version: \"202411\"\n",
      "INFO - 2025-05-17T23:31:06Z - Selected dataset part: \"default\"\n",
      "INFO - 2025-05-17T23:31:07Z - Downloading Copernicus Marine data requires a Copernicus Marine username and password, sign up for free at: https://data.marine.copernicus.eu/register\n"
     ]
    },
    {
     "name": "stdout",
     "output_type": "stream",
     "text": [
      "Copernicus Marine username: ekalacheva\n",
      "Copernicus Marine password: ········\n"
     ]
    }
   ],
   "source": [
    "df_2019 = copernicusmarine.open_dataset(\n",
    "  dataset_id=\"cmems_mod_arc_phy_my_nextsim_P1M-m\",\n",
    "  variables=[\"siconc\"],\n",
    "  minimum_longitude=-180,\n",
    "  maximum_longitude=179.97000000001367,\n",
    "  minimum_latitude=49.98,\n",
    "  maximum_latitude=90.03000000000151,\n",
    "  start_datetime=\"2019-12-01T00:00:00\",\n",
    "  end_datetime=\"2019-12-01T00:00:00\",\n",
    ")"
   ]
  },
  {
   "cell_type": "code",
   "execution_count": 106,
   "id": "951901f5",
   "metadata": {},
   "outputs": [],
   "source": [
    "extent_dec_2019 = calculate_sea_ice_extent(df_2019)"
   ]
  },
  {
   "cell_type": "code",
   "execution_count": 107,
   "id": "f0982cd9",
   "metadata": {},
   "outputs": [
    {
     "name": "stderr",
     "output_type": "stream",
     "text": [
      "INFO - 2025-05-17T23:31:41Z - Selected dataset version: \"202411\"\n",
      "INFO - 2025-05-17T23:31:41Z - Selected dataset part: \"default\"\n",
      "INFO - 2025-05-17T23:31:43Z - Downloading Copernicus Marine data requires a Copernicus Marine username and password, sign up for free at: https://data.marine.copernicus.eu/register\n"
     ]
    },
    {
     "name": "stdout",
     "output_type": "stream",
     "text": [
      "Copernicus Marine username: ekalacheva\n",
      "Copernicus Marine password: ········\n"
     ]
    }
   ],
   "source": [
    "df_2020 = copernicusmarine.open_dataset(\n",
    "  dataset_id=\"cmems_mod_arc_phy_my_nextsim_P1M-m\",\n",
    "  variables=[\"siconc\"],\n",
    "  minimum_longitude=-180,\n",
    "  maximum_longitude=179.97000000001367,\n",
    "  minimum_latitude=49.98,\n",
    "  maximum_latitude=90.03000000000151,\n",
    "  start_datetime=\"2020-12-01T00:00:00\",\n",
    "  end_datetime=\"2020-12-01T00:00:00\",\n",
    ")"
   ]
  },
  {
   "cell_type": "code",
   "execution_count": 108,
   "id": "2ab00e3c",
   "metadata": {},
   "outputs": [],
   "source": [
    "extent_dec_2020 = calculate_sea_ice_extent(df_2020)"
   ]
  },
  {
   "cell_type": "code",
   "execution_count": 109,
   "id": "1407bd81",
   "metadata": {},
   "outputs": [
    {
     "name": "stderr",
     "output_type": "stream",
     "text": [
      "INFO - 2025-05-17T23:32:27Z - Selected dataset version: \"202411\"\n",
      "INFO - 2025-05-17T23:32:27Z - Selected dataset part: \"default\"\n",
      "INFO - 2025-05-17T23:32:28Z - Downloading Copernicus Marine data requires a Copernicus Marine username and password, sign up for free at: https://data.marine.copernicus.eu/register\n"
     ]
    },
    {
     "name": "stdout",
     "output_type": "stream",
     "text": [
      "Copernicus Marine username: ekalacheva\n",
      "Copernicus Marine password: ········\n"
     ]
    }
   ],
   "source": [
    "df_2021 = copernicusmarine.open_dataset(\n",
    "  dataset_id=\"cmems_mod_arc_phy_my_nextsim_P1M-m\",\n",
    "  variables=[\"siconc\"],\n",
    "  minimum_longitude=-180,\n",
    "  maximum_longitude=179.97000000001367,\n",
    "  minimum_latitude=49.98,\n",
    "  maximum_latitude=90.03000000000151,\n",
    "  start_datetime=\"2021-12-01T00:00:00\",\n",
    "  end_datetime=\"2021-12-01T00:00:00\",\n",
    ")"
   ]
  },
  {
   "cell_type": "code",
   "execution_count": 110,
   "id": "8f25ef12",
   "metadata": {},
   "outputs": [],
   "source": [
    "extent_dec_2021 = calculate_sea_ice_extent(df_2021)"
   ]
  },
  {
   "cell_type": "code",
   "execution_count": 111,
   "id": "d3649d0c",
   "metadata": {},
   "outputs": [
    {
     "name": "stderr",
     "output_type": "stream",
     "text": [
      "INFO - 2025-05-17T23:33:05Z - Selected dataset version: \"202411\"\n",
      "INFO - 2025-05-17T23:33:05Z - Selected dataset part: \"default\"\n",
      "INFO - 2025-05-17T23:33:07Z - Downloading Copernicus Marine data requires a Copernicus Marine username and password, sign up for free at: https://data.marine.copernicus.eu/register\n"
     ]
    },
    {
     "name": "stdout",
     "output_type": "stream",
     "text": [
      "Copernicus Marine username: ekalacheva\n",
      "Copernicus Marine password: ········\n"
     ]
    }
   ],
   "source": [
    "df_2022 = copernicusmarine.open_dataset(\n",
    "  dataset_id=\"cmems_mod_arc_phy_my_nextsim_P1M-m\",\n",
    "  variables=[\"siconc\"],\n",
    "  minimum_longitude=-180,\n",
    "  maximum_longitude=179.97000000001367,\n",
    "  minimum_latitude=49.98,\n",
    "  maximum_latitude=90.03000000000151,\n",
    "  start_datetime=\"2022-12-01T00:00:00\",\n",
    "  end_datetime=\"2022-12-01T00:00:00\",\n",
    ")"
   ]
  },
  {
   "cell_type": "code",
   "execution_count": 113,
   "id": "7e562393",
   "metadata": {},
   "outputs": [],
   "source": [
    "extent_dec_2022 = calculate_sea_ice_extent(df_2022)"
   ]
  },
  {
   "cell_type": "code",
   "execution_count": 114,
   "id": "9c621a94",
   "metadata": {},
   "outputs": [
    {
     "name": "stderr",
     "output_type": "stream",
     "text": [
      "INFO - 2025-05-17T23:33:47Z - Selected dataset version: \"202411\"\n",
      "INFO - 2025-05-17T23:33:47Z - Selected dataset part: \"default\"\n",
      "INFO - 2025-05-17T23:33:48Z - Downloading Copernicus Marine data requires a Copernicus Marine username and password, sign up for free at: https://data.marine.copernicus.eu/register\n"
     ]
    },
    {
     "name": "stdout",
     "output_type": "stream",
     "text": [
      "Copernicus Marine username: ekalacheva\n",
      "Copernicus Marine password: ········\n"
     ]
    }
   ],
   "source": [
    "df_2023 = copernicusmarine.open_dataset(\n",
    "  dataset_id=\"cmems_mod_arc_phy_my_nextsim_P1M-m\",\n",
    "  variables=[\"siconc\"],\n",
    "  minimum_longitude=-180,\n",
    "  maximum_longitude=179.97000000001367,\n",
    "  minimum_latitude=49.98,\n",
    "  maximum_latitude=90.03000000000151,\n",
    "  start_datetime=\"2023-12-01T00:00:00\",\n",
    "  end_datetime=\"2023-12-01T00:00:00\",\n",
    ")"
   ]
  },
  {
   "cell_type": "code",
   "execution_count": 117,
   "id": "8ab79dc0",
   "metadata": {},
   "outputs": [],
   "source": [
    "extent_dec_2023 = calculate_sea_ice_extent(df_2023)"
   ]
  },
  {
   "cell_type": "code",
   "execution_count": 118,
   "id": "d5f33133",
   "metadata": {},
   "outputs": [
    {
     "data": {
      "text/html": [
       "<div>\n",
       "<style scoped>\n",
       "    .dataframe tbody tr th:only-of-type {\n",
       "        vertical-align: middle;\n",
       "    }\n",
       "\n",
       "    .dataframe tbody tr th {\n",
       "        vertical-align: top;\n",
       "    }\n",
       "\n",
       "    .dataframe thead th {\n",
       "        text-align: right;\n",
       "    }\n",
       "</style>\n",
       "<table border=\"1\" class=\"dataframe\">\n",
       "  <thead>\n",
       "    <tr style=\"text-align: right;\">\n",
       "      <th></th>\n",
       "      <th>year</th>\n",
       "      <th>ice_area_december_million_km2</th>\n",
       "    </tr>\n",
       "  </thead>\n",
       "  <tbody>\n",
       "    <tr>\n",
       "      <th>0</th>\n",
       "      <td>1993</td>\n",
       "      <td>1.160944e+07</td>\n",
       "    </tr>\n",
       "    <tr>\n",
       "      <th>1</th>\n",
       "      <td>1994</td>\n",
       "      <td>1.151518e+07</td>\n",
       "    </tr>\n",
       "    <tr>\n",
       "      <th>2</th>\n",
       "      <td>1995</td>\n",
       "      <td>1.159795e+07</td>\n",
       "    </tr>\n",
       "    <tr>\n",
       "      <th>3</th>\n",
       "      <td>1996</td>\n",
       "      <td>1.152444e+07</td>\n",
       "    </tr>\n",
       "    <tr>\n",
       "      <th>4</th>\n",
       "      <td>1997</td>\n",
       "      <td>1.163548e+07</td>\n",
       "    </tr>\n",
       "  </tbody>\n",
       "</table>\n",
       "</div>"
      ],
      "text/plain": [
       "   year  ice_area_december_million_km2\n",
       "0  1993                   1.160944e+07\n",
       "1  1994                   1.151518e+07\n",
       "2  1995                   1.159795e+07\n",
       "3  1996                   1.152444e+07\n",
       "4  1997                   1.163548e+07"
      ]
     },
     "execution_count": 118,
     "metadata": {},
     "output_type": "execute_result"
    }
   ],
   "source": [
    "years = [1993, 1994, 1995, 1996, 1997, 1998, 1999, 2000, 2001, 2002, 2003, 2004, 2005, 2006, 2007, 2008, 2009, 2010, 2011, 2012, 2013, 2014, 2015, 2016, 2017, 2018, 2019, 2020, 2021, 2022, 2023]\n",
    "areas = [extent_dec_1993, extent_dec_1994, extent_dec_1995, \n",
    "        extent_dec_1996, extent_dec_1997, extent_dec_1998,\n",
    "        extent_dec_1999, extent_dec_2000, extent_dec_2001,\n",
    "        extent_dec_2002, extent_dec_2003, extent_dec_2004,\n",
    "        extent_dec_2005, extent_dec_2006, extent_dec_2007,\n",
    "        extent_dec_2008, extent_dec_2009, extent_dec_2010,\n",
    "        extent_dec_2011, extent_dec_2012, extent_dec_2013, \n",
    "        extent_dec_2014, extent_dec_2015, extent_dec_2016,\n",
    "        extent_dec_2017, extent_dec_2018, extent_dec_2019,\n",
    "        extent_dec_2020, extent_dec_2021, extent_dec_2022, extent_dec_2023]\n",
    "df_ice_area = pd.DataFrame({\n",
    "    'year': years,\n",
    "    'ice_area_december_million_km2': areas\n",
    "})\n",
    "df_ice_area.head()"
   ]
  },
  {
   "cell_type": "code",
   "execution_count": 126,
   "id": "c098d421",
   "metadata": {},
   "outputs": [
    {
     "data": {
      "image/png": "[encoded data removed]",
      "text/plain": [
       "<Figure size 1000x600 with 1 Axes>"
      ]
     },
     "metadata": {},
     "output_type": "display_data"
    }
   ],
   "source": [
    "sns.set(style=\"whitegrid\", context=\"notebook\")\n",
    "plt.figure(figsize=(10, 6))\n",
    "\n",
    "sns.lineplot(\n",
    "    x = df_ice_area['year'],\n",
    "    y = df_ice_area['ice_area_december_million_km2'],\n",
    "    label='1993',\n",
    "    linewidth = 2.5,\n",
    "    linestyle='-',\n",
    "    color='paleturquoise'\n",
    "    )\n",
    "\n",
    "plt.xlabel('Time')\n",
    "plt.ylabel('Ice area, km2')\n",
    "plt.ylim(0, 1.2e7)\n",
    "plt.title('Sea Ice Area in December between 1993 and 2023')\n",
    "plt.grid(axis='x')\n",
    "plt.legend().remove()\n",
    "sns.despine() \n",
    "\n",
    "plt.tight_layout()\n",
    "plt.show()"
   ]
  },
  {
   "cell_type": "code",
   "execution_count": 129,
   "id": "ede87a86",
   "metadata": {},
   "outputs": [
    {
     "data": {
      "text/plain": [
       "7.233596524776255"
      ]
     },
     "execution_count": 129,
     "metadata": {},
     "output_type": "execute_result"
    }
   ],
   "source": [
    "percent_loss = ((extent_dec_1993 - extent_dec_2023)/ extent_dec_1993) * 100\n",
    "percent_loss"
   ]
  }
 ],
 "metadata": {
  "kernelspec": {
   "display_name": "Python 3 (ipykernel)",
   "language": "python",
   "name": "python3"
  },
  "language_info": {
   "codemirror_mode": {
    "name": "ipython",
    "version": 3
   },
   "file_extension": ".py",
   "mimetype": "text/x-python",
   "name": "python",
   "nbconvert_exporter": "python",
   "pygments_lexer": "ipython3",
   "version": "3.10.9"
  }
 },
 "nbformat": 4,
 "nbformat_minor": 5
}
